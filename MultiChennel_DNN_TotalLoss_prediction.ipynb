{
 "cells": [
  {
   "cell_type": "markdown",
   "metadata": {},
   "source": [
    "# Import Libraries"
   ]
  },
  {
   "cell_type": "code",
   "execution_count": 1,
   "metadata": {},
   "outputs": [
    {
     "name": "stderr",
     "output_type": "stream",
     "text": [
      "Using TensorFlow backend.\n"
     ]
    }
   ],
   "source": [
    "import utils\n",
    "from utils import *"
   ]
  },
  {
   "cell_type": "code",
   "execution_count": 3,
   "metadata": {},
   "outputs": [],
   "source": [
    "#parameters\n",
    "current_dir = os.getcwd();\n",
    "custom_bucket_boundary=[0,1,1000,200000] \n",
    "vocab_size=10000\n",
    "max_len=200\n",
    "max_words=10000\n",
    "embed_size=300\n",
    "max_features=10000\n",
    "#sample=150 #sample reocrds\n",
    "#train_size=1000#sample train\n",
    "dropout_rate=0.2\n",
    "size_embedding=10000\n",
    "epochs=50\n",
    "num_gpu=2\n",
    "#tensorboard_dir=\"./Payout\" #tensor board sub directory\n",
    "lbl = LabelEncoder()"
   ]
  },
  {
   "cell_type": "code",
   "execution_count": 5,
   "metadata": {
    "collapsed": true
   },
   "outputs": [
    {
     "name": "stdout",
     "output_type": "stream",
     "text": [
      "[nltk_data] Downloading package stopwords to /root/nltk_data...\n",
      "[nltk_data]   Unzipping corpora/stopwords.zip.\n"
     ]
    },
    {
     "data": {
      "text/plain": [
       "True"
      ]
     },
     "execution_count": 5,
     "metadata": {},
     "output_type": "execute_result"
    }
   ],
   "source": [
    "import nltk\n",
    "nltk.download('stopwords')"
   ]
  },
  {
   "cell_type": "markdown",
   "metadata": {},
   "source": [
    "## GPU and Tensorflow check"
   ]
  },
  {
   "cell_type": "code",
   "execution_count": 2,
   "metadata": {
    "collapsed": true
   },
   "outputs": [
    {
     "name": "stdout",
     "output_type": "stream",
     "text": [
      "[name: \"/device:CPU:0\"\n",
      "device_type: \"CPU\"\n",
      "memory_limit: 268435456\n",
      "locality {\n",
      "}\n",
      "incarnation: 17378274702901112497\n",
      ", name: \"/device:GPU:0\"\n",
      "device_type: \"GPU\"\n",
      "memory_limit: 11280557671\n",
      "locality {\n",
      "  bus_id: 1\n",
      "  links {\n",
      "    link {\n",
      "      device_id: 1\n",
      "      type: \"StreamExecutor\"\n",
      "      strength: 1\n",
      "    }\n",
      "  }\n",
      "}\n",
      "incarnation: 16854966812959137785\n",
      "physical_device_desc: \"device: 0, name: Tesla K80, pci bus id: 0000:0e:00.0, compute capability: 3.7\"\n",
      ", name: \"/device:GPU:1\"\n",
      "device_type: \"GPU\"\n",
      "memory_limit: 11280557671\n",
      "locality {\n",
      "  bus_id: 1\n",
      "  links {\n",
      "    link {\n",
      "      type: \"StreamExecutor\"\n",
      "      strength: 1\n",
      "    }\n",
      "  }\n",
      "}\n",
      "incarnation: 408489061951198463\n",
      "physical_device_desc: \"device: 1, name: Tesla K80, pci bus id: 0000:0f:00.0, compute capability: 3.7\"\n",
      "]\n"
     ]
    }
   ],
   "source": [
    "from tensorflow.python.client import device_lib\n",
    "print(device_lib.list_local_devices())"
   ]
  },
  {
   "cell_type": "code",
   "execution_count": 5,
   "metadata": {},
   "outputs": [],
   "source": [
    "import tensorflow as tf"
   ]
  },
  {
   "cell_type": "code",
   "execution_count": 10,
   "metadata": {},
   "outputs": [
    {
     "data": {
      "text/plain": [
       "'1.11.0'"
      ]
     },
     "execution_count": 10,
     "metadata": {},
     "output_type": "execute_result"
    }
   ],
   "source": [
    "tf.__version__"
   ]
  },
  {
   "cell_type": "code",
   "execution_count": 12,
   "metadata": {
    "collapsed": true
   },
   "outputs": [
    {
     "name": "stdout",
     "output_type": "stream",
     "text": [
      "[[22. 28.]\n",
      " [49. 64.]]\n",
      "[node {\n",
      "  name: \"MatMul/_0\"\n",
      "  op: \"_Send\"\n",
      "  input: \"MatMul/_0__cf__0\"\n",
      "  device: \"/job:localhost/replica:0/task:0/device:GPU:0\"\n",
      "  attr {\n",
      "    key: \"T\"\n",
      "    value {\n",
      "      type: DT_FLOAT\n",
      "    }\n",
      "  }\n",
      "  attr {\n",
      "    key: \"client_terminated\"\n",
      "    value {\n",
      "      b: false\n",
      "    }\n",
      "  }\n",
      "  attr {\n",
      "    key: \"recv_device\"\n",
      "    value {\n",
      "      s: \"/job:localhost/replica:0/task:0/device:CPU:0\"\n",
      "    }\n",
      "  }\n",
      "  attr {\n",
      "    key: \"send_device\"\n",
      "    value {\n",
      "      s: \"/job:localhost/replica:0/task:0/device:GPU:0\"\n",
      "    }\n",
      "  }\n",
      "  attr {\n",
      "    key: \"send_device_incarnation\"\n",
      "    value {\n",
      "      i: 1\n",
      "    }\n",
      "  }\n",
      "  attr {\n",
      "    key: \"tensor_name\"\n",
      "    value {\n",
      "      s: \"edge_7_MatMul\"\n",
      "    }\n",
      "  }\n",
      "}\n",
      "node {\n",
      "  name: \"MatMul/_0__cf__0\"\n",
      "  op: \"Const\"\n",
      "  device: \"/job:localhost/replica:0/task:0/device:GPU:0\"\n",
      "  attr {\n",
      "    key: \"dtype\"\n",
      "    value {\n",
      "      type: DT_FLOAT\n",
      "    }\n",
      "  }\n",
      "  attr {\n",
      "    key: \"value\"\n",
      "    value {\n",
      "      tensor {\n",
      "        dtype: DT_FLOAT\n",
      "        tensor_shape {\n",
      "          dim {\n",
      "            size: 2\n",
      "          }\n",
      "          dim {\n",
      "            size: 2\n",
      "          }\n",
      "        }\n",
      "        tensor_content: \"\\000\\000\\260A\\000\\000\\340A\\000\\000DB\\000\\000\\200B\"\n",
      "      }\n",
      "    }\n",
      "  }\n",
      "}\n",
      "library {\n",
      "}\n",
      "versions {\n",
      "  producer: 27\n",
      "}\n",
      ", node {\n",
      "  name: \"MatMul/_1\"\n",
      "  op: \"_Recv\"\n",
      "  device: \"/job:localhost/replica:0/task:0/device:CPU:0\"\n",
      "  attr {\n",
      "    key: \"client_terminated\"\n",
      "    value {\n",
      "      b: false\n",
      "    }\n",
      "  }\n",
      "  attr {\n",
      "    key: \"recv_device\"\n",
      "    value {\n",
      "      s: \"/job:localhost/replica:0/task:0/device:CPU:0\"\n",
      "    }\n",
      "  }\n",
      "  attr {\n",
      "    key: \"send_device\"\n",
      "    value {\n",
      "      s: \"/job:localhost/replica:0/task:0/device:GPU:0\"\n",
      "    }\n",
      "  }\n",
      "  attr {\n",
      "    key: \"send_device_incarnation\"\n",
      "    value {\n",
      "      i: 1\n",
      "    }\n",
      "  }\n",
      "  attr {\n",
      "    key: \"tensor_name\"\n",
      "    value {\n",
      "      s: \"edge_7_MatMul\"\n",
      "    }\n",
      "  }\n",
      "  attr {\n",
      "    key: \"tensor_type\"\n",
      "    value {\n",
      "      type: DT_FLOAT\n",
      "    }\n",
      "  }\n",
      "}\n",
      "node {\n",
      "  name: \"_retval_MatMul_0_0\"\n",
      "  op: \"_Retval\"\n",
      "  input: \"MatMul/_1\"\n",
      "  device: \"/job:localhost/replica:0/task:0/device:CPU:0\"\n",
      "  attr {\n",
      "    key: \"T\"\n",
      "    value {\n",
      "      type: DT_FLOAT\n",
      "    }\n",
      "  }\n",
      "  attr {\n",
      "    key: \"index\"\n",
      "    value {\n",
      "      i: 0\n",
      "    }\n",
      "  }\n",
      "}\n",
      "library {\n",
      "}\n",
      "versions {\n",
      "  producer: 27\n",
      "}\n",
      "]\n"
     ]
    }
   ],
   "source": [
    "#Tensorflow check\n",
    "tf.Session()\n",
    "\n",
    "with tf.device('/gpu:0'):\n",
    "    a = tf.constant([1.0, 2.0, 3.0, 4.0, 5.0, 6.0], shape=[2, 3]) \n",
    "    b = tf.constant([1.0, 2.0, 3.0, 4.0, 5.0, 6.0], shape=[3, 2])\n",
    "c = tf.matmul(a, b)\n",
    "# Creates a session with log_device_placement set to True.\n",
    "sess = tf.Session(config=tf.ConfigProto(log_device_placement=True))\n",
    "\n",
    "print(sess.run(c))\n",
    "\n",
    "# Runs the op.\n",
    "# Log information\n",
    "options = tf.RunOptions(output_partition_graphs=True)\n",
    "metadata = tf.RunMetadata()\n",
    "c_val = sess.run(c, options=options, run_metadata=metadata)\n",
    "\n",
    "print(metadata.partition_graphs)\n",
    "\n",
    "sess.close()"
   ]
  },
  {
   "cell_type": "markdown",
   "metadata": {},
   "source": [
    "# Data Import"
   ]
  },
  {
   "cell_type": "code",
   "execution_count": 4,
   "metadata": {},
   "outputs": [],
   "source": [
    "import os\n",
    "current_dir = os.getcwd()"
   ]
  },
  {
   "cell_type": "code",
   "execution_count": 5,
   "metadata": {},
   "outputs": [
    {
     "data": {
      "text/plain": [
       "'/notebooks'"
      ]
     },
     "execution_count": 5,
     "metadata": {},
     "output_type": "execute_result"
    }
   ],
   "source": [
    "current_dir"
   ]
  },
  {
   "cell_type": "code",
   "execution_count": 7,
   "metadata": {
    "collapsed": true
   },
   "outputs": [
    {
     "name": "stdout",
     "output_type": "stream",
     "text": [
      "mkdir: cannot create directory 'model#model': File exists\r\n",
      "mkdir: cannot create directory 'directory': File exists\r\n"
     ]
    }
   ],
   "source": [
    "%mkdir model#model directory"
   ]
  },
  {
   "cell_type": "code",
   "execution_count": 6,
   "metadata": {},
   "outputs": [],
   "source": [
    "model_save_dir = os.getcwd() + '/model/target_encoded_conv_69_features.hdf5' # save best models "
   ]
  },
  {
   "cell_type": "code",
   "execution_count": 128,
   "metadata": {},
   "outputs": [],
   "source": [
    "%mkdir tensorBo #tensorboard directory\n",
    "tensorboard_dir=os.getcwd() + \"/tensorBo/\" #tensor board graphs"
   ]
  },
  {
   "cell_type": "code",
   "execution_count": 7,
   "metadata": {},
   "outputs": [],
   "source": [
    "path = current_dir+'/totalloss_preprocess/'"
   ]
  },
  {
   "cell_type": "code",
   "execution_count": 18,
   "metadata": {
    "collapsed": true
   },
   "outputs": [
    {
     "ename": "FileNotFoundError",
     "evalue": "File b'/notebooks/totalloss_preprocess/scrubbed-final_train_with_text_feature_encoded.csv' does not exist",
     "output_type": "error",
     "traceback": [
      "\u001b[0;31m---------------------------------------------------------------------------\u001b[0m",
      "\u001b[0;31mFileNotFoundError\u001b[0m                         Traceback (most recent call last)",
      "\u001b[0;32m<ipython-input-18-76bcd0576ef7>\u001b[0m in \u001b[0;36m<module>\u001b[0;34m\u001b[0m\n\u001b[0;32m----> 1\u001b[0;31m \u001b[0mdf\u001b[0m \u001b[0;34m=\u001b[0m \u001b[0mpd\u001b[0m\u001b[0;34m.\u001b[0m\u001b[0mread_csv\u001b[0m\u001b[0;34m(\u001b[0m\u001b[0mpath\u001b[0m\u001b[0;34m+\u001b[0m\u001b[0;34m'scrubbed-final_train_with_text_feature_encoded.csv'\u001b[0m\u001b[0;34m)\u001b[0m\u001b[0;34m\u001b[0m\u001b[0m\n\u001b[0m",
      "\u001b[0;32m/usr/local/lib/python3.5/dist-packages/pandas/io/parsers.py\u001b[0m in \u001b[0;36mparser_f\u001b[0;34m(filepath_or_buffer, sep, delimiter, header, names, index_col, usecols, squeeze, prefix, mangle_dupe_cols, dtype, engine, converters, true_values, false_values, skipinitialspace, skiprows, nrows, na_values, keep_default_na, na_filter, verbose, skip_blank_lines, parse_dates, infer_datetime_format, keep_date_col, date_parser, dayfirst, iterator, chunksize, compression, thousands, decimal, lineterminator, quotechar, quoting, escapechar, comment, encoding, dialect, tupleize_cols, error_bad_lines, warn_bad_lines, skipfooter, doublequote, delim_whitespace, low_memory, memory_map, float_precision)\u001b[0m\n\u001b[1;32m    676\u001b[0m                     skip_blank_lines=skip_blank_lines)\n\u001b[1;32m    677\u001b[0m \u001b[0;34m\u001b[0m\u001b[0m\n\u001b[0;32m--> 678\u001b[0;31m         \u001b[0;32mreturn\u001b[0m \u001b[0m_read\u001b[0m\u001b[0;34m(\u001b[0m\u001b[0mfilepath_or_buffer\u001b[0m\u001b[0;34m,\u001b[0m \u001b[0mkwds\u001b[0m\u001b[0;34m)\u001b[0m\u001b[0;34m\u001b[0m\u001b[0m\n\u001b[0m\u001b[1;32m    679\u001b[0m \u001b[0;34m\u001b[0m\u001b[0m\n\u001b[1;32m    680\u001b[0m     \u001b[0mparser_f\u001b[0m\u001b[0;34m.\u001b[0m\u001b[0m__name__\u001b[0m \u001b[0;34m=\u001b[0m \u001b[0mname\u001b[0m\u001b[0;34m\u001b[0m\u001b[0m\n",
      "\u001b[0;32m/usr/local/lib/python3.5/dist-packages/pandas/io/parsers.py\u001b[0m in \u001b[0;36m_read\u001b[0;34m(filepath_or_buffer, kwds)\u001b[0m\n\u001b[1;32m    438\u001b[0m \u001b[0;34m\u001b[0m\u001b[0m\n\u001b[1;32m    439\u001b[0m     \u001b[0;31m# Create the parser.\u001b[0m\u001b[0;34m\u001b[0m\u001b[0;34m\u001b[0m\u001b[0m\n\u001b[0;32m--> 440\u001b[0;31m     \u001b[0mparser\u001b[0m \u001b[0;34m=\u001b[0m \u001b[0mTextFileReader\u001b[0m\u001b[0;34m(\u001b[0m\u001b[0mfilepath_or_buffer\u001b[0m\u001b[0;34m,\u001b[0m \u001b[0;34m**\u001b[0m\u001b[0mkwds\u001b[0m\u001b[0;34m)\u001b[0m\u001b[0;34m\u001b[0m\u001b[0m\n\u001b[0m\u001b[1;32m    441\u001b[0m \u001b[0;34m\u001b[0m\u001b[0m\n\u001b[1;32m    442\u001b[0m     \u001b[0;32mif\u001b[0m \u001b[0mchunksize\u001b[0m \u001b[0;32mor\u001b[0m \u001b[0miterator\u001b[0m\u001b[0;34m:\u001b[0m\u001b[0;34m\u001b[0m\u001b[0m\n",
      "\u001b[0;32m/usr/local/lib/python3.5/dist-packages/pandas/io/parsers.py\u001b[0m in \u001b[0;36m__init__\u001b[0;34m(self, f, engine, **kwds)\u001b[0m\n\u001b[1;32m    785\u001b[0m             \u001b[0mself\u001b[0m\u001b[0;34m.\u001b[0m\u001b[0moptions\u001b[0m\u001b[0;34m[\u001b[0m\u001b[0;34m'has_index_names'\u001b[0m\u001b[0;34m]\u001b[0m \u001b[0;34m=\u001b[0m \u001b[0mkwds\u001b[0m\u001b[0;34m[\u001b[0m\u001b[0;34m'has_index_names'\u001b[0m\u001b[0;34m]\u001b[0m\u001b[0;34m\u001b[0m\u001b[0m\n\u001b[1;32m    786\u001b[0m \u001b[0;34m\u001b[0m\u001b[0m\n\u001b[0;32m--> 787\u001b[0;31m         \u001b[0mself\u001b[0m\u001b[0;34m.\u001b[0m\u001b[0m_make_engine\u001b[0m\u001b[0;34m(\u001b[0m\u001b[0mself\u001b[0m\u001b[0;34m.\u001b[0m\u001b[0mengine\u001b[0m\u001b[0;34m)\u001b[0m\u001b[0;34m\u001b[0m\u001b[0m\n\u001b[0m\u001b[1;32m    788\u001b[0m \u001b[0;34m\u001b[0m\u001b[0m\n\u001b[1;32m    789\u001b[0m     \u001b[0;32mdef\u001b[0m \u001b[0mclose\u001b[0m\u001b[0;34m(\u001b[0m\u001b[0mself\u001b[0m\u001b[0;34m)\u001b[0m\u001b[0;34m:\u001b[0m\u001b[0;34m\u001b[0m\u001b[0m\n",
      "\u001b[0;32m/usr/local/lib/python3.5/dist-packages/pandas/io/parsers.py\u001b[0m in \u001b[0;36m_make_engine\u001b[0;34m(self, engine)\u001b[0m\n\u001b[1;32m   1012\u001b[0m     \u001b[0;32mdef\u001b[0m \u001b[0m_make_engine\u001b[0m\u001b[0;34m(\u001b[0m\u001b[0mself\u001b[0m\u001b[0;34m,\u001b[0m \u001b[0mengine\u001b[0m\u001b[0;34m=\u001b[0m\u001b[0;34m'c'\u001b[0m\u001b[0;34m)\u001b[0m\u001b[0;34m:\u001b[0m\u001b[0;34m\u001b[0m\u001b[0m\n\u001b[1;32m   1013\u001b[0m         \u001b[0;32mif\u001b[0m \u001b[0mengine\u001b[0m \u001b[0;34m==\u001b[0m \u001b[0;34m'c'\u001b[0m\u001b[0;34m:\u001b[0m\u001b[0;34m\u001b[0m\u001b[0m\n\u001b[0;32m-> 1014\u001b[0;31m             \u001b[0mself\u001b[0m\u001b[0;34m.\u001b[0m\u001b[0m_engine\u001b[0m \u001b[0;34m=\u001b[0m \u001b[0mCParserWrapper\u001b[0m\u001b[0;34m(\u001b[0m\u001b[0mself\u001b[0m\u001b[0;34m.\u001b[0m\u001b[0mf\u001b[0m\u001b[0;34m,\u001b[0m \u001b[0;34m**\u001b[0m\u001b[0mself\u001b[0m\u001b[0;34m.\u001b[0m\u001b[0moptions\u001b[0m\u001b[0;34m)\u001b[0m\u001b[0;34m\u001b[0m\u001b[0m\n\u001b[0m\u001b[1;32m   1015\u001b[0m         \u001b[0;32melse\u001b[0m\u001b[0;34m:\u001b[0m\u001b[0;34m\u001b[0m\u001b[0m\n\u001b[1;32m   1016\u001b[0m             \u001b[0;32mif\u001b[0m \u001b[0mengine\u001b[0m \u001b[0;34m==\u001b[0m \u001b[0;34m'python'\u001b[0m\u001b[0;34m:\u001b[0m\u001b[0;34m\u001b[0m\u001b[0m\n",
      "\u001b[0;32m/usr/local/lib/python3.5/dist-packages/pandas/io/parsers.py\u001b[0m in \u001b[0;36m__init__\u001b[0;34m(self, src, **kwds)\u001b[0m\n\u001b[1;32m   1706\u001b[0m         \u001b[0mkwds\u001b[0m\u001b[0;34m[\u001b[0m\u001b[0;34m'usecols'\u001b[0m\u001b[0;34m]\u001b[0m \u001b[0;34m=\u001b[0m \u001b[0mself\u001b[0m\u001b[0;34m.\u001b[0m\u001b[0musecols\u001b[0m\u001b[0;34m\u001b[0m\u001b[0m\n\u001b[1;32m   1707\u001b[0m \u001b[0;34m\u001b[0m\u001b[0m\n\u001b[0;32m-> 1708\u001b[0;31m         \u001b[0mself\u001b[0m\u001b[0;34m.\u001b[0m\u001b[0m_reader\u001b[0m \u001b[0;34m=\u001b[0m \u001b[0mparsers\u001b[0m\u001b[0;34m.\u001b[0m\u001b[0mTextReader\u001b[0m\u001b[0;34m(\u001b[0m\u001b[0msrc\u001b[0m\u001b[0;34m,\u001b[0m \u001b[0;34m**\u001b[0m\u001b[0mkwds\u001b[0m\u001b[0;34m)\u001b[0m\u001b[0;34m\u001b[0m\u001b[0m\n\u001b[0m\u001b[1;32m   1709\u001b[0m \u001b[0;34m\u001b[0m\u001b[0m\n\u001b[1;32m   1710\u001b[0m         \u001b[0mpassed_names\u001b[0m \u001b[0;34m=\u001b[0m \u001b[0mself\u001b[0m\u001b[0;34m.\u001b[0m\u001b[0mnames\u001b[0m \u001b[0;32mis\u001b[0m \u001b[0;32mNone\u001b[0m\u001b[0;34m\u001b[0m\u001b[0m\n",
      "\u001b[0;32mpandas/_libs/parsers.pyx\u001b[0m in \u001b[0;36mpandas._libs.parsers.TextReader.__cinit__\u001b[0;34m()\u001b[0m\n",
      "\u001b[0;32mpandas/_libs/parsers.pyx\u001b[0m in \u001b[0;36mpandas._libs.parsers.TextReader._setup_parser_source\u001b[0;34m()\u001b[0m\n",
      "\u001b[0;31mFileNotFoundError\u001b[0m: File b'/notebooks/totalloss_preprocess/scrubbed-final_train_with_text_feature_encoded.csv' does not exist"
     ]
    }
   ],
   "source": [
    "df = pd.read_csv(path+'final_train_with_text_feature_encoded.csv')"
   ]
  },
  {
   "cell_type": "code",
   "execution_count": 11,
   "metadata": {},
   "outputs": [
    {
     "data": {
      "text/plain": [
       "(1261439, 72)"
      ]
     },
     "execution_count": 11,
     "metadata": {},
     "output_type": "execute_result"
    }
   ],
   "source": [
    "df.shape"
   ]
  },
  {
   "cell_type": "code",
   "execution_count": 13,
   "metadata": {},
   "outputs": [],
   "source": [
    "train_claim_numbers = df.claim_claimnumber.copy()\n",
    "df.drop('claim_claimnumber',axis=1,inplace=True)\n",
    "df.drop(['Unnamed: 0'],axis=1,inplace=True)"
   ]
  },
  {
   "cell_type": "code",
   "execution_count": 14,
   "metadata": {},
   "outputs": [],
   "source": [
    "test = pd.read_csv(path+'test_full_clean_data_with_encoding.csv')"
   ]
  },
  {
   "cell_type": "code",
   "execution_count": 15,
   "metadata": {},
   "outputs": [
    {
     "data": {
      "text/plain": [
       "(100574, 72)"
      ]
     },
     "execution_count": 15,
     "metadata": {},
     "output_type": "execute_result"
    }
   ],
   "source": [
    "test.shape"
   ]
  },
  {
   "cell_type": "code",
   "execution_count": 17,
   "metadata": {
    "collapsed": true
   },
   "outputs": [
    {
     "ename": "AttributeError",
     "evalue": "'DataFrame' object has no attribute 'exp_claimorder'",
     "output_type": "error",
     "traceback": [
      "\u001b[0;31m---------------------------------------------------------------------------\u001b[0m",
      "\u001b[0;31mAttributeError\u001b[0m                            Traceback (most recent call last)",
      "\u001b[0;32m<ipython-input-17-ddb429e14150>\u001b[0m in \u001b[0;36m<module>\u001b[0;34m\u001b[0m\n\u001b[0;32m----> 1\u001b[0;31m \u001b[0mtest\u001b[0m\u001b[0;34m.\u001b[0m\u001b[0mexp_claimorder\u001b[0m\u001b[0;34m\u001b[0m\u001b[0m\n\u001b[0m",
      "\u001b[0;32m/usr/local/lib/python3.5/dist-packages/pandas/core/generic.py\u001b[0m in \u001b[0;36m__getattr__\u001b[0;34m(self, name)\u001b[0m\n\u001b[1;32m   4374\u001b[0m             \u001b[0;32mif\u001b[0m \u001b[0mself\u001b[0m\u001b[0;34m.\u001b[0m\u001b[0m_info_axis\u001b[0m\u001b[0;34m.\u001b[0m\u001b[0m_can_hold_identifiers_and_holds_name\u001b[0m\u001b[0;34m(\u001b[0m\u001b[0mname\u001b[0m\u001b[0;34m)\u001b[0m\u001b[0;34m:\u001b[0m\u001b[0;34m\u001b[0m\u001b[0m\n\u001b[1;32m   4375\u001b[0m                 \u001b[0;32mreturn\u001b[0m \u001b[0mself\u001b[0m\u001b[0;34m[\u001b[0m\u001b[0mname\u001b[0m\u001b[0;34m]\u001b[0m\u001b[0;34m\u001b[0m\u001b[0m\n\u001b[0;32m-> 4376\u001b[0;31m             \u001b[0;32mreturn\u001b[0m \u001b[0mobject\u001b[0m\u001b[0;34m.\u001b[0m\u001b[0m__getattribute__\u001b[0m\u001b[0;34m(\u001b[0m\u001b[0mself\u001b[0m\u001b[0;34m,\u001b[0m \u001b[0mname\u001b[0m\u001b[0;34m)\u001b[0m\u001b[0;34m\u001b[0m\u001b[0m\n\u001b[0m\u001b[1;32m   4377\u001b[0m \u001b[0;34m\u001b[0m\u001b[0m\n\u001b[1;32m   4378\u001b[0m     \u001b[0;32mdef\u001b[0m \u001b[0m__setattr__\u001b[0m\u001b[0;34m(\u001b[0m\u001b[0mself\u001b[0m\u001b[0;34m,\u001b[0m \u001b[0mname\u001b[0m\u001b[0;34m,\u001b[0m \u001b[0mvalue\u001b[0m\u001b[0;34m)\u001b[0m\u001b[0;34m:\u001b[0m\u001b[0;34m\u001b[0m\u001b[0m\n",
      "\u001b[0;31mAttributeError\u001b[0m: 'DataFrame' object has no attribute 'exp_claimorder'"
     ]
    }
   ],
   "source": [
    "test.exp_claimorder"
   ]
  },
  {
   "cell_type": "code",
   "execution_count": 12,
   "metadata": {},
   "outputs": [],
   "source": [
    "test_claims_numbers=test.claim_claimnumber"
   ]
  },
  {
   "cell_type": "code",
   "execution_count": 13,
   "metadata": {},
   "outputs": [],
   "source": [
    "test_exp_claimorder=test.exp_claimorder"
   ]
  },
  {
   "cell_type": "code",
   "execution_count": 14,
   "metadata": {},
   "outputs": [],
   "source": [
    "test.drop(['claim_claimnumber','exp_claimorder'],axis=1,inplace=True)"
   ]
  },
  {
   "cell_type": "code",
   "execution_count": 15,
   "metadata": {},
   "outputs": [],
   "source": [
    "test.drop('Unnamed: 0',axis=1,inplace=True)"
   ]
  },
  {
   "cell_type": "code",
   "execution_count": 58,
   "metadata": {},
   "outputs": [
    {
     "data": {
      "text/plain": [
       "((1261439, 73), (76385, 73))"
      ]
     },
     "execution_count": 58,
     "metadata": {},
     "output_type": "execute_result"
    }
   ],
   "source": [
    "(df.shape,test.shape)"
   ]
  },
  {
   "cell_type": "code",
   "execution_count": 33,
   "metadata": {},
   "outputs": [
    {
     "name": "stdout",
     "output_type": "stream",
     "text": [
      "full_text\n"
     ]
    }
   ],
   "source": [
    "for col in df.columns:\n",
    "    if col not in test.columns:\n",
    "        print('{}'.format(col))"
   ]
  },
  {
   "cell_type": "code",
   "execution_count": 34,
   "metadata": {},
   "outputs": [],
   "source": [
    "df.drop('full_text',axis=1,inplace=True)"
   ]
  },
  {
   "cell_type": "code",
   "execution_count": 12,
   "metadata": {
    "collapsed": true
   },
   "outputs": [
    {
     "name": "stdout",
     "output_type": "stream",
     "text": [
      "claim_description\n",
      "inc_description\n",
      "inc_vehdamagesnapshot_aaa\n",
      "vehicle_properties\n",
      "text_combines\n",
      "claim_claimnumber\n"
     ]
    }
   ],
   "source": [
    "for col in df.columns:\n",
    "    if df[col].dtype=='O':\n",
    "        print('{}'.format(col))\n",
    "        df.drop(col,axis=1,inplace=True)"
   ]
  },
  {
   "cell_type": "code",
   "execution_count": 31,
   "metadata": {
    "collapsed": true
   },
   "outputs": [
    {
     "ename": "AttributeError",
     "evalue": "'DataFrame' object has no attribute 'claim_claimnumber'",
     "output_type": "error",
     "traceback": [
      "\u001b[0;31m---------------------------------------------------------------------------\u001b[0m",
      "\u001b[0;31mAttributeError\u001b[0m                            Traceback (most recent call last)",
      "\u001b[0;32m<ipython-input-31-182f468338ec>\u001b[0m in \u001b[0;36m<module>\u001b[0;34m\u001b[0m\n\u001b[0;32m----> 1\u001b[0;31m \u001b[0mdf\u001b[0m\u001b[0;34m.\u001b[0m\u001b[0mclaim_claimnumber\u001b[0m\u001b[0;34m\u001b[0m\u001b[0m\n\u001b[0m",
      "\u001b[0;32m/usr/local/lib/python3.5/dist-packages/pandas/core/generic.py\u001b[0m in \u001b[0;36m__getattr__\u001b[0;34m(self, name)\u001b[0m\n\u001b[1;32m   4374\u001b[0m             \u001b[0;32mif\u001b[0m \u001b[0mself\u001b[0m\u001b[0;34m.\u001b[0m\u001b[0m_info_axis\u001b[0m\u001b[0;34m.\u001b[0m\u001b[0m_can_hold_identifiers_and_holds_name\u001b[0m\u001b[0;34m(\u001b[0m\u001b[0mname\u001b[0m\u001b[0;34m)\u001b[0m\u001b[0;34m:\u001b[0m\u001b[0;34m\u001b[0m\u001b[0m\n\u001b[1;32m   4375\u001b[0m                 \u001b[0;32mreturn\u001b[0m \u001b[0mself\u001b[0m\u001b[0;34m[\u001b[0m\u001b[0mname\u001b[0m\u001b[0;34m]\u001b[0m\u001b[0;34m\u001b[0m\u001b[0m\n\u001b[0;32m-> 4376\u001b[0;31m             \u001b[0;32mreturn\u001b[0m \u001b[0mobject\u001b[0m\u001b[0;34m.\u001b[0m\u001b[0m__getattribute__\u001b[0m\u001b[0;34m(\u001b[0m\u001b[0mself\u001b[0m\u001b[0;34m,\u001b[0m \u001b[0mname\u001b[0m\u001b[0;34m)\u001b[0m\u001b[0;34m\u001b[0m\u001b[0m\n\u001b[0m\u001b[1;32m   4377\u001b[0m \u001b[0;34m\u001b[0m\u001b[0m\n\u001b[1;32m   4378\u001b[0m     \u001b[0;32mdef\u001b[0m \u001b[0m__setattr__\u001b[0m\u001b[0;34m(\u001b[0m\u001b[0mself\u001b[0m\u001b[0;34m,\u001b[0m \u001b[0mname\u001b[0m\u001b[0;34m,\u001b[0m \u001b[0mvalue\u001b[0m\u001b[0;34m)\u001b[0m\u001b[0;34m:\u001b[0m\u001b[0;34m\u001b[0m\u001b[0m\n",
      "\u001b[0;31mAttributeError\u001b[0m: 'DataFrame' object has no attribute 'claim_claimnumber'"
     ]
    }
   ],
   "source": [
    "df.claim_claimnumber"
   ]
  },
  {
   "cell_type": "code",
   "execution_count": 25,
   "metadata": {},
   "outputs": [],
   "source": [
    "train_totalloss=df.inc_totalloss.copy()"
   ]
  },
  {
   "cell_type": "code",
   "execution_count": 49,
   "metadata": {
    "collapsed": true
   },
   "outputs": [
    {
     "data": {
      "text/plain": [
       "DecisionTreeClassifier(class_weight=None, criterion='gini', max_depth=8,\n",
       "            max_features=None, max_leaf_nodes=None,\n",
       "            min_impurity_decrease=0.0, min_impurity_split=None,\n",
       "            min_samples_leaf=4, min_samples_split=2,\n",
       "            min_weight_fraction_leaf=0.0, presort=False, random_state=None,\n",
       "            splitter='best')"
      ]
     },
     "execution_count": 49,
     "metadata": {},
     "output_type": "execute_result"
    }
   ],
   "source": [
    "start = time.time()\n",
    "dct.fit(df,totalloss)"
   ]
  },
  {
   "cell_type": "code",
   "execution_count": 50,
   "metadata": {},
   "outputs": [
    {
     "name": "stdout",
     "output_type": "stream",
     "text": [
      "1.4122042655944824 mins\n"
     ]
    }
   ],
   "source": [
    "print('{} mins'.format((time.time()-start)/60))"
   ]
  },
  {
   "cell_type": "markdown",
   "metadata": {},
   "source": [
    "# Text Features handling"
   ]
  },
  {
   "cell_type": "code",
   "execution_count": 59,
   "metadata": {},
   "outputs": [],
   "source": [
    "numerical_cols = ['vehicle_year','vehicle_mileage','points','mileage','coveage_deductible','vehicle_age',\n",
    "                 'word_count','unique_word_count','char_count','word_density']\n",
    "text_cols = ['claim_loss_description','incident_loss_description','','vehicle_properties','text_combines']\n",
    "cat_cols = [col for col in df.columns if col not in numerical_cols + text_cols]"
   ]
  },
  {
   "cell_type": "code",
   "execution_count": 35,
   "metadata": {
    "collapsed": true
   },
   "outputs": [
    {
     "name": "stdout",
     "output_type": "stream",
     "text": [
      "claim_description\n",
      "inc_description\n",
      "inc_vehdamagesnapshot_aaa\n",
      "vehicle_properties\n",
      "text_combines\n"
     ]
    }
   ],
   "source": [
    "text_cols=[]\n",
    "for col in df.columns:\n",
    "    if df[col].dtype=='O':\n",
    "        print('{}'.format(col))\n",
    "        text_cols.append(col)\n"
   ]
  },
  {
   "cell_type": "code",
   "execution_count": 37,
   "metadata": {},
   "outputs": [],
   "source": [
    "#parameters\n",
    "current_dir = os.getcwd();\n",
    "custom_bucket_boundary=[0,1,1000,200000] \n",
    "vocab_size=10000\n",
    "max_len=500\n",
    "max_words=10000\n",
    "embed_size=300\n",
    "max_features=10000\n",
    "sample=150 #sample reocrds\n",
    "train_size=1000#sample train\n",
    "dropout_rate=0.2\n",
    "size_embedding=10000\n",
    "epochs=50\n",
    "num_gpu=3\n",
    "#tensorboard_dir=\"./Payout\" #tensor board sub directory\n",
    "lbl = LabelEncoder()"
   ]
  },
  {
   "cell_type": "code",
   "execution_count": 38,
   "metadata": {},
   "outputs": [],
   "source": [
    "df_combine=pd.concat([df,test])"
   ]
  },
  {
   "cell_type": "code",
   "execution_count": 60,
   "metadata": {},
   "outputs": [
    {
     "data": {
      "text/plain": [
       "1261439"
      ]
     },
     "execution_count": 60,
     "metadata": {},
     "output_type": "execute_result"
    }
   ],
   "source": [
    "len(df)"
   ]
  },
  {
   "cell_type": "code",
   "execution_count": 22,
   "metadata": {},
   "outputs": [],
   "source": [
    "#df_text['full_text'] = ''\n",
    "#for f in text_cols:\n",
    " #   if text_cols!=\n",
    "df['full_text'] = df['text_combines'] + df['vehicle_properties']"
   ]
  },
  {
   "cell_type": "code",
   "execution_count": 39,
   "metadata": {},
   "outputs": [],
   "source": [
    "df_combine['full_text']= df_combine['text_combines'] + df_combine['vehicle_properties']"
   ]
  },
  {
   "cell_type": "code",
   "execution_count": 62,
   "metadata": {},
   "outputs": [],
   "source": [
    "tknizer = Tokenizer(num_words=max_words)\n",
    "tknizer.fit_on_texts(df_combine['full_text']) "
   ]
  },
  {
   "cell_type": "code",
   "execution_count": 63,
   "metadata": {},
   "outputs": [],
   "source": [
    "train_text = tknizer.texts_to_sequences(df_combine['full_text'][:1261439]) #text feature\n",
    "test_text=tknizer.texts_to_sequences(df_combine['full_text'][1261439:])"
   ]
  },
  {
   "cell_type": "code",
   "execution_count": 64,
   "metadata": {},
   "outputs": [],
   "source": [
    "train_text = pad_sequences(train_text,maxlen=max_len)"
   ]
  },
  {
   "cell_type": "code",
   "execution_count": 65,
   "metadata": {},
   "outputs": [],
   "source": [
    "test_text=pad_sequences(test_text,maxlen=max_len)"
   ]
  },
  {
   "cell_type": "code",
   "execution_count": 57,
   "metadata": {
    "collapsed": true
   },
   "outputs": [
    {
     "ename": "AttributeError",
     "evalue": "'list' object has no attribute 'shape'",
     "output_type": "error",
     "traceback": [
      "\u001b[0;31m---------------------------------------------------------------------------\u001b[0m",
      "\u001b[0;31mAttributeError\u001b[0m                            Traceback (most recent call last)",
      "\u001b[0;32m<ipython-input-57-845444ba532f>\u001b[0m in \u001b[0;36m<module>\u001b[0;34m\u001b[0m\n\u001b[0;32m----> 1\u001b[0;31m \u001b[0mtrain_text\u001b[0m\u001b[0;34m.\u001b[0m\u001b[0mshape\u001b[0m\u001b[0;34m\u001b[0m\u001b[0m\n\u001b[0m",
      "\u001b[0;31mAttributeError\u001b[0m: 'list' object has no attribute 'shape'"
     ]
    }
   ],
   "source": [
    "train_text.shape"
   ]
  },
  {
   "cell_type": "code",
   "execution_count": 56,
   "metadata": {
    "collapsed": true
   },
   "outputs": [
    {
     "ename": "AttributeError",
     "evalue": "'list' object has no attribute 'shape'",
     "output_type": "error",
     "traceback": [
      "\u001b[0;31m---------------------------------------------------------------------------\u001b[0m",
      "\u001b[0;31mAttributeError\u001b[0m                            Traceback (most recent call last)",
      "\u001b[0;32m<ipython-input-56-fab9be818c2b>\u001b[0m in \u001b[0;36m<module>\u001b[0;34m\u001b[0m\n\u001b[0;32m----> 1\u001b[0;31m \u001b[0mtest_text\u001b[0m\u001b[0;34m.\u001b[0m\u001b[0mshape\u001b[0m\u001b[0;34m\u001b[0m\u001b[0m\n\u001b[0m",
      "\u001b[0;31mAttributeError\u001b[0m: 'list' object has no attribute 'shape'"
     ]
    }
   ],
   "source": [
    "test_text.shape"
   ]
  },
  {
   "cell_type": "code",
   "execution_count": 56,
   "metadata": {},
   "outputs": [],
   "source": [
    "pd.options.display.float_format = '{:,.2f}'.format"
   ]
  },
  {
   "cell_type": "code",
   "execution_count": 57,
   "metadata": {
    "collapsed": true
   },
   "outputs": [
    {
     "data": {
      "text/plain": [
       "count   1,261,439.00\n",
       "mean            0.08\n",
       "std             0.05\n",
       "min             0.00\n",
       "25%             0.03\n",
       "50%             0.07\n",
       "75%             0.10\n",
       "max             1.00\n",
       "Name: word_count, dtype: float64"
      ]
     },
     "execution_count": 57,
     "metadata": {},
     "output_type": "execute_result"
    }
   ],
   "source": [
    "df.word_count.describe()"
   ]
  },
  {
   "cell_type": "code",
   "execution_count": 66,
   "metadata": {},
   "outputs": [],
   "source": [
    "embed_size =300\n",
    "max_features = 10000\n",
    "max_len = 200"
   ]
  },
  {
   "cell_type": "code",
   "execution_count": 67,
   "metadata": {},
   "outputs": [],
   "source": [
    "EMBEDDING_FILE= \"glove.840B.300d.txt\""
   ]
  },
  {
   "cell_type": "code",
   "execution_count": 68,
   "metadata": {},
   "outputs": [],
   "source": [
    "def get_coeff(word,*arr): return word, np.asarray(arr,dtype='float32')\n",
    "embedding_index = dict(get_coeff(*o.rstrip().rsplit(' ')) for o in open(EMBEDDING_FILE,encoding='utf-8'))"
   ]
  },
  {
   "cell_type": "code",
   "execution_count": 69,
   "metadata": {},
   "outputs": [],
   "source": [
    "word_index = tknizer.word_index\n",
    "nb_words = min(max_features, len(word_index))\n",
    "embedding_matrix = np.zeros((nb_words,embed_size)) #np.random.normal(emb_mean,emb_std,(nb_words,embed_size))\n",
    "for word,i in word_index.items():\n",
    "    if  i >= max_features : continue\n",
    "    embedding_vector = embedding_index.get(word)\n",
    "    if embedding_vector is not None : embedding_matrix[i] = embedding_vector"
   ]
  },
  {
   "cell_type": "code",
   "execution_count": 70,
   "metadata": {},
   "outputs": [
    {
     "data": {
      "text/plain": [
       "(10000, 300)"
      ]
     },
     "execution_count": 70,
     "metadata": {},
     "output_type": "execute_result"
    }
   ],
   "source": [
    "embedding_matrix.shape"
   ]
  },
  {
   "cell_type": "markdown",
   "metadata": {},
   "source": [
    "# Target encoding"
   ]
  },
  {
   "cell_type": "code",
   "execution_count": null,
   "metadata": {},
   "outputs": [],
   "source": [
    "#drop train text columns\n",
    "for col in df.columns:\n",
    "    if df[col].dtype=='O':\n",
    "        print('{}'.format(col))\n",
    "        df.drop(col,axis=1,inplace=True)"
   ]
  },
  {
   "cell_type": "code",
   "execution_count": null,
   "metadata": {},
   "outputs": [],
   "source": [
    "#drop test text columns\n",
    "for col in test.columns:\n",
    "    if test[col].dtype=='O':\n",
    "        print('{}'.format(col))\n",
    "        test.drop(col,axis=1,inplace=True)"
   ]
  },
  {
   "cell_type": "code",
   "execution_count": 116,
   "metadata": {},
   "outputs": [
    {
     "name": "stdout",
     "output_type": "stream",
     "text": [
      "Shape of train numerical features (1261439, 57)\n",
      "Shape of test numerical features(76385, 57)\n"
     ]
    }
   ],
   "source": [
    "train_cat=df[cat_cols]\n",
    "print('Shape of train categorical features {}'.format(train_cat.shape))\n",
    "test_cat=test[cat_cols]\n",
    "print('Shape of test categorical features{}'.format(test_cat.shape))"
   ]
  },
  {
   "cell_type": "code",
   "execution_count": 118,
   "metadata": {},
   "outputs": [
    {
     "name": "stdout",
     "output_type": "stream",
     "text": [
      "Shape of train text features (1261439, 500)\n",
      "Shape of test text features(76385, 500)\n"
     ]
    }
   ],
   "source": [
    "print('Shape of train text features {}'.format(train_text.shape))\n",
    "print('Shape of test text features{}'.format(test_text.shape))"
   ]
  },
  {
   "cell_type": "code",
   "execution_count": 115,
   "metadata": {
    "collapsed": true
   },
   "outputs": [
    {
     "name": "stdout",
     "output_type": "stream",
     "text": [
      "Shape of train numerical features (1261439, 10)\n",
      "Shape of test numerical features(76385, 10)\n"
     ]
    }
   ],
   "source": [
    "train_num=df[numerical_cols]\n",
    "print('Shape of train numerical features {}'.format(train_num.shape))\n",
    "test_num=test[numerical_cols]\n",
    "print('Shape of test numerical features{}'.format(test_num.shape))"
   ]
  },
  {
   "cell_type": "code",
   "execution_count": 95,
   "metadata": {},
   "outputs": [],
   "source": [
    "test_loss=test.inc_totalloss"
   ]
  },
  {
   "cell_type": "code",
   "execution_count": 94,
   "metadata": {},
   "outputs": [],
   "source": [
    "train_totalloss=df.inc_totalloss.copy()"
   ]
  },
  {
   "cell_type": "code",
   "execution_count": 109,
   "metadata": {},
   "outputs": [],
   "source": [
    "train_totalloss.replace(19,1,inplace=True)"
   ]
  },
  {
   "cell_type": "code",
   "execution_count": 101,
   "metadata": {},
   "outputs": [],
   "source": [
    "test.drop('inc_totalloss',axis=1,inplace=True)"
   ]
  },
  {
   "cell_type": "code",
   "execution_count": 103,
   "metadata": {},
   "outputs": [],
   "source": [
    "df.drop('inc_totalloss',axis=1,inplace=True)"
   ]
  },
  {
   "cell_type": "code",
   "execution_count": 105,
   "metadata": {},
   "outputs": [
    {
     "data": {
      "text/plain": [
       "(76385, 67)"
      ]
     },
     "execution_count": 105,
     "metadata": {},
     "output_type": "execute_result"
    }
   ],
   "source": [
    "test.shape"
   ]
  },
  {
   "cell_type": "code",
   "execution_count": 110,
   "metadata": {},
   "outputs": [
    {
     "name": "stdout",
     "output_type": "stream",
     "text": [
      "Output shape (1261439, 2)\n"
     ]
    }
   ],
   "source": [
    "#target variable one hot \n",
    "train_target= tf.keras.utils.to_categorical(train_totalloss,num_classes=None)\n",
    "print(\"Output shape {}\".format(train_target.shape))"
   ]
  },
  {
   "cell_type": "code",
   "execution_count": 107,
   "metadata": {},
   "outputs": [
    {
     "name": "stdout",
     "output_type": "stream",
     "text": [
      "Output shape (76385, 2)\n"
     ]
    }
   ],
   "source": [
    "#target variable one hot \n",
    "test_target= tf.keras.utils.to_categorical(test_loss,num_classes=None)\n",
    "print(\"Output shape {}\".format(test_target.shape))"
   ]
  },
  {
   "cell_type": "code",
   "execution_count": null,
   "metadata": {},
   "outputs": [],
   "source": [
    "for col in test.columns:\n",
    "    if test[col].dtype=='O':\n",
    "        print('{}'.format(col))\n",
    "        test.drop(col,axis=1,inplace=True)"
   ]
  },
  {
   "cell_type": "markdown",
   "metadata": {},
   "source": [
    "# Models"
   ]
  },
  {
   "cell_type": "code",
   "execution_count": 134,
   "metadata": {},
   "outputs": [],
   "source": [
    "from keras.layers import GlobalAveragePooling1D,GlobalMaxPooling1D\n",
    "def get_model():    \n",
    "        # categorical channel\n",
    "        with tf.name_scope(\"Input_Category\"):      \n",
    "            inputs1 = Input(shape=(train_cat.shape[1],))\n",
    "        with tf.name_scope(\"Dense_cat\"): \n",
    "            dense_cat_1 = Dense(256, activation='relu')(inputs1)\n",
    "            dense_cat_2 = Dense(128, activation='relu')(dense_cat_1)\n",
    "        with tf.name_scope(\"Dropout\"):\n",
    "            drop1 = Dropout(0.2)(dense_cat_2)\n",
    "        with tf.name_scope('Flat_1'):\n",
    "            flat1 = Dense(32, activation='relu')(drop1)\n",
    "            \n",
    "    #numeric channel\n",
    "        with tf.name_scope(\"Numeric_channel\"):\n",
    "            inputs2 = Input(shape=(train_num.shape[1],))\n",
    "        with tf.name_scope(\"Dense_real\"):\n",
    "            dense_real_1=Dense(256,activation='relu')(inputs2)\n",
    "            dense_real_2 = Dense(128,activation='relu')(dense_real_1) \n",
    "        with tf.name_scope(\"Dropout\"):\n",
    "            drop2 = Dropout(0.2)(dense_real_2)\n",
    "        with tf.name_scope('Flat_2'):\n",
    "            flat2=Dense(64,activation='relu')(drop2)\n",
    "\n",
    "        # text chanel\n",
    "        with tf.name_scope(\"Input_Text\"):\n",
    "            inputs3 = Input(shape=(train_text.shape[1],))\n",
    "            embedding3 = Embedding(size_embedding, 300,weights=[embedding_matrix],trainable = False)(inputs3)\n",
    "            x = SpatialDropout1D(0.2)(embedding3)\n",
    "        #with tf.name_scope(\"LSTM\"):\n",
    "            #x1 = Bidirectional(GRU(80,return_sequences=True,dropout=0.2,recurrent_dropout=0.25))(x)\n",
    "        with tf.name_scope(\"Convolution\"):\n",
    "            conv3 = Conv1D(filters=128, kernel_size=8,padding='valid',kernel_initializer='glorot_uniform')(x)\n",
    "        with tf.name_scope(\"Dropout\"):\n",
    "            drop3 = Dropout(0.2)(conv3)\n",
    "        with tf.name_scope('Average_pool'):\n",
    "            avg_pool = GlobalAveragePooling1D()(drop3)\n",
    "        with tf.name_scope('MaxPool'):\n",
    "            max_pool = GlobalMaxPooling1D()(drop3)\n",
    "        with tf.name_scope(\"Concat\"):\n",
    "            x = concatenate([avg_pool,max_pool])\n",
    "       # with tf.name_scope('Flat_3'):\n",
    "          #  flat3 = Flatten()(x)\n",
    "\n",
    "        # merge\n",
    "        with tf.name_scope('Merge_Channels'):\n",
    "            merged = concatenate([flat1,x])\n",
    "        with tf.name_scope(\"Dense\"):\n",
    "            dense1 = Dense(200, activation='relu')(merged)\n",
    "            dense2 = Dense(100, activation='relu')(dense1)\n",
    "        with tf.name_scope(\"Output\"):\n",
    "            outputs = Dense(2, activation='sigmoid')(merged)\n",
    "        model1 = Model(inputs=[inputs1,inputs2,inputs3], outputs=outputs)\n",
    "        return model1"
   ]
  },
  {
   "cell_type": "code",
   "execution_count": 135,
   "metadata": {},
   "outputs": [
    {
     "name": "stdout",
     "output_type": "stream",
     "text": [
      "__________________________________________________________________________________________________\n",
      "Layer (type)                    Output Shape         Param #     Connected to                     \n",
      "==================================================================================================\n",
      "input_9 (InputLayer)            (None, 500)          0                                            \n",
      "__________________________________________________________________________________________________\n",
      "embedding_3 (Embedding)         (None, 500, 300)     3000000     input_9[0][0]                    \n",
      "__________________________________________________________________________________________________\n",
      "input_7 (InputLayer)            (None, 57)           0                                            \n",
      "__________________________________________________________________________________________________\n",
      "spatial_dropout1d_3 (SpatialDro (None, 500, 300)     0           embedding_3[0][0]                \n",
      "__________________________________________________________________________________________________\n",
      "dense_16 (Dense)                (None, 256)          14848       input_7[0][0]                    \n",
      "__________________________________________________________________________________________________\n",
      "conv1d_3 (Conv1D)               (None, 493, 128)     307328      spatial_dropout1d_3[0][0]        \n",
      "__________________________________________________________________________________________________\n",
      "dense_17 (Dense)                (None, 128)          32896       dense_16[0][0]                   \n",
      "__________________________________________________________________________________________________\n",
      "dropout_9 (Dropout)             (None, 493, 128)     0           conv1d_3[0][0]                   \n",
      "__________________________________________________________________________________________________\n",
      "dropout_7 (Dropout)             (None, 128)          0           dense_17[0][0]                   \n",
      "__________________________________________________________________________________________________\n",
      "global_average_pooling1d_2 (Glo (None, 128)          0           dropout_9[0][0]                  \n",
      "__________________________________________________________________________________________________\n",
      "global_max_pooling1d_2 (GlobalM (None, 128)          0           dropout_9[0][0]                  \n",
      "__________________________________________________________________________________________________\n",
      "dense_18 (Dense)                (None, 32)           4128        dropout_7[0][0]                  \n",
      "__________________________________________________________________________________________________\n",
      "concatenate_3 (Concatenate)     (None, 256)          0           global_average_pooling1d_2[0][0] \n",
      "                                                                 global_max_pooling1d_2[0][0]     \n",
      "__________________________________________________________________________________________________\n",
      "concatenate_4 (Concatenate)     (None, 288)          0           dense_18[0][0]                   \n",
      "                                                                 concatenate_3[0][0]              \n",
      "__________________________________________________________________________________________________\n",
      "dense_24 (Dense)                (None, 2)            578         concatenate_4[0][0]              \n",
      "==================================================================================================\n",
      "Total params: 3,359,778\n",
      "Trainable params: 359,778\n",
      "Non-trainable params: 3,000,000\n",
      "__________________________________________________________________________________________________\n",
      "None\n"
     ]
    }
   ],
   "source": [
    "model = get_model()\n",
    "print(model.summary())"
   ]
  },
  {
   "cell_type": "markdown",
   "metadata": {},
   "source": [
    "# Compile & Training"
   ]
  },
  {
   "cell_type": "code",
   "execution_count": 1,
   "metadata": {},
   "outputs": [
    {
     "name": "stderr",
     "output_type": "stream",
     "text": [
      "Using TensorFlow backend.\n"
     ]
    }
   ],
   "source": [
    "from keras.optimizers import SGD,Adamax,Nadam"
   ]
  },
  {
   "cell_type": "code",
   "execution_count": 130,
   "metadata": {},
   "outputs": [],
   "source": [
    "from keras.callbacks import ReduceLROnPlateau"
   ]
  },
  {
   "cell_type": "code",
   "execution_count": 2,
   "metadata": {
    "collapsed": true
   },
   "outputs": [
    {
     "ename": "NameError",
     "evalue": "name 'df_combine' is not defined",
     "output_type": "error",
     "traceback": [
      "\u001b[0;31m---------------------------------------------------------------------------\u001b[0m",
      "\u001b[0;31mNameError\u001b[0m                                 Traceback (most recent call last)",
      "\u001b[0;32m<ipython-input-2-b128ed6a6b59>\u001b[0m in \u001b[0;36m<module>\u001b[0;34m\u001b[0m\n\u001b[0;32m----> 1\u001b[0;31m \u001b[0mdf_combine\u001b[0m\u001b[0;34m\u001b[0m\u001b[0m\n\u001b[0m",
      "\u001b[0;31mNameError\u001b[0m: name 'df_combine' is not defined"
     ]
    }
   ],
   "source": [
    "df_combine"
   ]
  },
  {
   "cell_type": "code",
   "execution_count": 131,
   "metadata": {},
   "outputs": [],
   "source": [
    "#CallBacks\n",
    "#check_point = ModelCheckpoint(model_save_dir, monitor = \"val_loss\", verbose = 1,\n",
    "                              save_best_only = True, mode = \"min\")\n",
    "early_stop = EarlyStopping(monitor = \"val_loss\", mode = \"min\", patience = 5)\n",
    "#tbCallBack = TensorBoard(log_dir=tensorboard_dir,\n",
    "                         histogram_freq=1,\n",
    "                         write_graph=True,\n",
    "                         write_images=True)\n",
    "learning_rate_reduction = ReduceLROnPlateau(monitor='val_acc', \n",
    "                                            patience=5, \n",
    "                                            verbose=1, \n",
    "                                            factor=0.5, \n",
    "                                            min_lr=0.0001)"
   ]
  },
  {
   "cell_type": "code",
   "execution_count": 136,
   "metadata": {},
   "outputs": [],
   "source": [
    "with tf.device('/device:cpu:0'):\n",
    "    with tf.name_scope('Compile'):\n",
    "        model.compile(loss='categorical_crossentropy',optimizer=Adam(lr=1e-5),metrics=['accuracy'])"
   ]
  },
  {
   "cell_type": "markdown",
   "metadata": {
    "heading_collapsed": true
   },
   "source": [
    "## Training"
   ]
  },
  {
   "cell_type": "code",
   "execution_count": 1,
   "metadata": {
    "collapsed": true,
    "hidden": true
   },
   "outputs": [
    {
     "ename": "NameError",
     "evalue": "name 'tf' is not defined",
     "output_type": "error",
     "traceback": [
      "\u001b[0;31m---------------------------------------------------------------------------\u001b[0m",
      "\u001b[0;31mNameError\u001b[0m                                 Traceback (most recent call last)",
      "\u001b[0;32m<ipython-input-1-075557d1527a>\u001b[0m in \u001b[0;36m<module>\u001b[0;34m\u001b[0m\n\u001b[1;32m      1\u001b[0m \u001b[0;31m#for d in ['/device:GPU:0','/device:GPU:1','/device:GPU:2']:\u001b[0m\u001b[0;34m\u001b[0m\u001b[0;34m\u001b[0m\u001b[0m\n\u001b[0;32m----> 2\u001b[0;31m \u001b[0;32mwith\u001b[0m \u001b[0mtf\u001b[0m\u001b[0;34m.\u001b[0m\u001b[0mdevice\u001b[0m\u001b[0;34m(\u001b[0m\u001b[0;34m'/device:GPU:0'\u001b[0m\u001b[0;34m)\u001b[0m\u001b[0;34m:\u001b[0m\u001b[0;34m\u001b[0m\u001b[0m\n\u001b[0m\u001b[1;32m      3\u001b[0m     \u001b[0mmodel\u001b[0m\u001b[0;34m.\u001b[0m\u001b[0mfit\u001b[0m\u001b[0;34m(\u001b[0m\u001b[0;34m[\u001b[0m\u001b[0mtrain_cat\u001b[0m\u001b[0;34m,\u001b[0m\u001b[0mtrain_num\u001b[0m\u001b[0;34m,\u001b[0m \u001b[0mtrain_text\u001b[0m\u001b[0;34m]\u001b[0m\u001b[0;34m,\u001b[0m \u001b[0mtrain_target\u001b[0m\u001b[0;34m,\u001b[0m \u001b[0mbatch_size\u001b[0m\u001b[0;34m=\u001b[0m\u001b[0;36m128\u001b[0m\u001b[0;34m,\u001b[0m \u001b[0mepochs\u001b[0m\u001b[0;34m=\u001b[0m\u001b[0;36m20\u001b[0m\u001b[0;34m,\u001b[0m \u001b[0mvalidation_split\u001b[0m\u001b[0;34m=\u001b[0m\u001b[0;36m0.15\u001b[0m\u001b[0;34m,\u001b[0m\u001b[0mcallbacks\u001b[0m\u001b[0;34m=\u001b[0m\u001b[0;34m[\u001b[0m\u001b[0mcheck_point\u001b[0m\u001b[0;34m,\u001b[0m\u001b[0mearly_stop\u001b[0m\u001b[0;34m,\u001b[0m\u001b[0mtbCallBack\u001b[0m\u001b[0;34m,\u001b[0m\u001b[0mlearning_rate_reduction\u001b[0m\u001b[0;34m]\u001b[0m\u001b[0;34m)\u001b[0m\u001b[0;34m\u001b[0m\u001b[0m\n",
      "\u001b[0;31mNameError\u001b[0m: name 'tf' is not defined"
     ]
    }
   ],
   "source": [
    "#for d in ['/device:GPU:0','/device:GPU:1','/device:GPU:2']:\n",
    "with tf.device('/device:GPU:0'):\n",
    "    model.fit([train_cat,train_num, train_text], train_target, batch_size=128, epochs=20, validation_split=0.15,callbacks=[check_point,early_stop,tbCallBack,learning_rate_reduction])"
   ]
  },
  {
   "cell_type": "code",
   "execution_count": 2,
   "metadata": {
    "hidden": true
   },
   "outputs": [
    {
     "data": {
      "text/plain": [
       "0"
      ]
     },
     "execution_count": 2,
     "metadata": {},
     "output_type": "execute_result"
    }
   ],
   "source": [
    "import gc\n",
    "gc.collect()"
   ]
  },
  {
   "cell_type": "markdown",
   "metadata": {
    "heading_collapsed": true
   },
   "source": [
    "## XGBoost with cross val"
   ]
  },
  {
   "cell_type": "code",
   "execution_count": 24,
   "metadata": {
    "hidden": true
   },
   "outputs": [],
   "source": [
    "#xgboost params\n",
    "from sklearn import feature_selection\n",
    "import xgboost as xgb\n",
    "#import lightgbm as lgb\n",
    "\n",
    "from sklearn.model_selection import cross_val_score\n",
    "from sklearn.preprocessing import StandardScaler\n",
    "from nltk.sentiment.vader import SentimentIntensityAnalyzer\n",
    "from sklearn import preprocessing\n",
    "from scipy.sparse import hstack, csr_matrix\n",
    "import scipy.stats as st\n",
    "from sklearn.model_selection import StratifiedKFold"
   ]
  },
  {
   "cell_type": "code",
   "execution_count": 33,
   "metadata": {
    "hidden": true
   },
   "outputs": [],
   "source": [
    "test.drop('exp_claimorder',axis=1,inplace=True)"
   ]
  },
  {
   "cell_type": "code",
   "execution_count": 32,
   "metadata": {
    "hidden": true
   },
   "outputs": [
    {
     "name": "stdout",
     "output_type": "stream",
     "text": [
      "exp_claimorder\n"
     ]
    }
   ],
   "source": [
    "for col in test.columns:\n",
    "    if col not in df.columns:\n",
    "        print('{}'.format(col))"
   ]
  },
  {
   "cell_type": "code",
   "execution_count": 34,
   "metadata": {
    "hidden": true
   },
   "outputs": [],
   "source": [
    "def gini(actual, pred, cmpcol = 0, sortcol = 1):\n",
    "    assert( len(actual) == len(pred) )\n",
    "    all = np.asarray(np.c_[ actual, pred, np.arange(len(actual)) ], dtype=np.float)\n",
    "    all = all[ np.lexsort((all[:,2], -1*all[:,1])) ]\n",
    "    totalLosses = all[:,0].sum()\n",
    "    giniSum = all[:,0].cumsum().sum() / totalLosses\n",
    "    \n",
    "    giniSum -= (len(actual) + 1) / 2.\n",
    "    return giniSum / len(actual)\n",
    "\n",
    "def gini_normalized(a, p):\n",
    "    return gini(a, p) / gini(a, a)\n",
    "\n",
    "def gini_xgb(preds, dtrain):\n",
    "    labels = dtrain.get_label()\n",
    "    gini_score = gini_normalized(labels, preds)\n",
    "    return [('gini', gini_score)]\n",
    "\n",
    "def gini_lgb(preds, dtrain):\n",
    "    y = list(dtrain.get_label())\n",
    "    score = gini(y, preds) / gini(y, y)\n",
    "    return 'gini', score, True"
   ]
  },
  {
   "cell_type": "code",
   "execution_count": 47,
   "metadata": {
    "hidden": true
   },
   "outputs": [],
   "source": [
    "train=df.copy()"
   ]
  },
  {
   "cell_type": "code",
   "execution_count": 53,
   "metadata": {
    "hidden": true
   },
   "outputs": [
    {
     "data": {
      "text/plain": [
       "(1261439, 67)"
      ]
     },
     "execution_count": 53,
     "metadata": {},
     "output_type": "execute_result"
    }
   ],
   "source": [
    "train.shape"
   ]
  },
  {
   "cell_type": "code",
   "execution_count": null,
   "metadata": {
    "hidden": true,
    "scrolled": true
   },
   "outputs": [
    {
     "name": "stdout",
     "output_type": "stream",
     "text": [
      " xgb kfold: 1  of  5 : \n",
      "[18:36:51] /workspace/src/tree/updater_prune.cc:74: tree pruning end, 1 roots, 1900 extra nodes, 0 pruned nodes, max_depth=12\n",
      "[0]\ttrain-logloss:0.647797\tvalid-logloss:0.647483\ttrain-gini:0.993125\tvalid-gini:0.994145\n",
      "Multiple eval metrics have been passed: 'valid-gini' will be used for early stopping.\n",
      "\n",
      "Will train until valid-gini hasn't improved in 100 rounds.\n",
      "[18:36:52] /workspace/src/tree/updater_prune.cc:74: tree pruning end, 1 roots, 2756 extra nodes, 0 pruned nodes, max_depth=12\n",
      "[18:36:53] /workspace/src/tree/updater_prune.cc:74: tree pruning end, 1 roots, 2008 extra nodes, 0 pruned nodes, max_depth=12\n",
      "[18:36:54] /workspace/src/tree/updater_prune.cc:74: tree pruning end, 1 roots, 2830 extra nodes, 0 pruned nodes, max_depth=12\n",
      "[18:36:55] /workspace/src/tree/updater_prune.cc:74: tree pruning end, 1 roots, 2006 extra nodes, 0 pruned nodes, max_depth=12\n",
      "[18:36:56] /workspace/src/tree/updater_prune.cc:74: tree pruning end, 1 roots, 1872 extra nodes, 0 pruned nodes, max_depth=12\n",
      "[18:36:57] /workspace/src/tree/updater_prune.cc:74: tree pruning end, 1 roots, 1988 extra nodes, 0 pruned nodes, max_depth=12\n",
      "[18:36:58] /workspace/src/tree/updater_prune.cc:74: tree pruning end, 1 roots, 2046 extra nodes, 0 pruned nodes, max_depth=12\n",
      "[18:36:59] /workspace/src/tree/updater_prune.cc:74: tree pruning end, 1 roots, 1896 extra nodes, 0 pruned nodes, max_depth=12\n",
      "[18:37:00] /workspace/src/tree/updater_prune.cc:74: tree pruning end, 1 roots, 1970 extra nodes, 0 pruned nodes, max_depth=12\n",
      "[18:37:01] /workspace/src/tree/updater_prune.cc:74: tree pruning end, 1 roots, 2046 extra nodes, 0 pruned nodes, max_depth=12\n",
      "[18:37:02] /workspace/src/tree/updater_prune.cc:74: tree pruning end, 1 roots, 2958 extra nodes, 0 pruned nodes, max_depth=12\n",
      "[18:37:03] /workspace/src/tree/updater_prune.cc:74: tree pruning end, 1 roots, 2582 extra nodes, 0 pruned nodes, max_depth=12\n",
      "[18:37:04] /workspace/src/tree/updater_prune.cc:74: tree pruning end, 1 roots, 2096 extra nodes, 0 pruned nodes, max_depth=12\n",
      "[18:37:05] /workspace/src/tree/updater_prune.cc:74: tree pruning end, 1 roots, 1962 extra nodes, 0 pruned nodes, max_depth=12\n",
      "[18:37:06] /workspace/src/tree/updater_prune.cc:74: tree pruning end, 1 roots, 2074 extra nodes, 0 pruned nodes, max_depth=12\n",
      "[18:37:08] /workspace/src/tree/updater_prune.cc:74: tree pruning end, 1 roots, 2088 extra nodes, 0 pruned nodes, max_depth=12\n",
      "[18:37:09] /workspace/src/tree/updater_prune.cc:74: tree pruning end, 1 roots, 2216 extra nodes, 0 pruned nodes, max_depth=12\n",
      "[18:37:10] /workspace/src/tree/updater_prune.cc:74: tree pruning end, 1 roots, 2266 extra nodes, 0 pruned nodes, max_depth=12\n",
      "[18:37:11] /workspace/src/tree/updater_prune.cc:74: tree pruning end, 1 roots, 2146 extra nodes, 0 pruned nodes, max_depth=12\n",
      "[18:37:12] /workspace/src/tree/updater_prune.cc:74: tree pruning end, 1 roots, 2252 extra nodes, 0 pruned nodes, max_depth=12\n",
      "[18:37:13] /workspace/src/tree/updater_prune.cc:74: tree pruning end, 1 roots, 2080 extra nodes, 0 pruned nodes, max_depth=12\n",
      "[18:37:14] /workspace/src/tree/updater_prune.cc:74: tree pruning end, 1 roots, 2298 extra nodes, 0 pruned nodes, max_depth=12\n",
      "[18:37:15] /workspace/src/tree/updater_prune.cc:74: tree pruning end, 1 roots, 2346 extra nodes, 0 pruned nodes, max_depth=12\n",
      "[18:37:16] /workspace/src/tree/updater_prune.cc:74: tree pruning end, 1 roots, 2456 extra nodes, 0 pruned nodes, max_depth=12\n",
      "[18:37:17] /workspace/src/tree/updater_prune.cc:74: tree pruning end, 1 roots, 2182 extra nodes, 0 pruned nodes, max_depth=12\n",
      "[18:37:18] /workspace/src/tree/updater_prune.cc:74: tree pruning end, 1 roots, 2362 extra nodes, 0 pruned nodes, max_depth=12\n",
      "[18:37:19] /workspace/src/tree/updater_prune.cc:74: tree pruning end, 1 roots, 2404 extra nodes, 0 pruned nodes, max_depth=12\n",
      "[18:37:20] /workspace/src/tree/updater_prune.cc:74: tree pruning end, 1 roots, 2372 extra nodes, 0 pruned nodes, max_depth=12\n",
      "[18:37:21] /workspace/src/tree/updater_prune.cc:74: tree pruning end, 1 roots, 1908 extra nodes, 0 pruned nodes, max_depth=12\n",
      "[18:37:22] /workspace/src/tree/updater_prune.cc:74: tree pruning end, 1 roots, 2464 extra nodes, 0 pruned nodes, max_depth=12\n",
      "[18:37:23] /workspace/src/tree/updater_prune.cc:74: tree pruning end, 1 roots, 2240 extra nodes, 0 pruned nodes, max_depth=12\n",
      "[18:37:24] /workspace/src/tree/updater_prune.cc:74: tree pruning end, 1 roots, 2372 extra nodes, 0 pruned nodes, max_depth=12\n",
      "[18:37:26] /workspace/src/tree/updater_prune.cc:74: tree pruning end, 1 roots, 2650 extra nodes, 0 pruned nodes, max_depth=12\n",
      "[18:37:27] /workspace/src/tree/updater_prune.cc:74: tree pruning end, 1 roots, 2652 extra nodes, 0 pruned nodes, max_depth=12\n",
      "[18:37:28] /workspace/src/tree/updater_prune.cc:74: tree pruning end, 1 roots, 2980 extra nodes, 0 pruned nodes, max_depth=12\n",
      "[18:37:29] /workspace/src/tree/updater_prune.cc:74: tree pruning end, 1 roots, 2858 extra nodes, 0 pruned nodes, max_depth=12\n",
      "[18:37:30] /workspace/src/tree/updater_prune.cc:74: tree pruning end, 1 roots, 2808 extra nodes, 0 pruned nodes, max_depth=12\n",
      "[18:37:31] /workspace/src/tree/updater_prune.cc:74: tree pruning end, 1 roots, 1936 extra nodes, 0 pruned nodes, max_depth=12\n",
      "[18:37:32] /workspace/src/tree/updater_prune.cc:74: tree pruning end, 1 roots, 2374 extra nodes, 0 pruned nodes, max_depth=12\n",
      "[18:37:33] /workspace/src/tree/updater_prune.cc:74: tree pruning end, 1 roots, 2270 extra nodes, 0 pruned nodes, max_depth=12\n",
      "[18:37:34] /workspace/src/tree/updater_prune.cc:74: tree pruning end, 1 roots, 2518 extra nodes, 0 pruned nodes, max_depth=12\n",
      "[18:37:35] /workspace/src/tree/updater_prune.cc:74: tree pruning end, 1 roots, 2446 extra nodes, 0 pruned nodes, max_depth=12\n",
      "[18:37:37] /workspace/src/tree/updater_prune.cc:74: tree pruning end, 1 roots, 2308 extra nodes, 0 pruned nodes, max_depth=12\n",
      "[18:37:38] /workspace/src/tree/updater_prune.cc:74: tree pruning end, 1 roots, 2288 extra nodes, 0 pruned nodes, max_depth=12\n",
      "[18:37:39] /workspace/src/tree/updater_prune.cc:74: tree pruning end, 1 roots, 2118 extra nodes, 0 pruned nodes, max_depth=12\n",
      "[18:37:40] /workspace/src/tree/updater_prune.cc:74: tree pruning end, 1 roots, 2272 extra nodes, 0 pruned nodes, max_depth=12\n",
      "[18:37:41] /workspace/src/tree/updater_prune.cc:74: tree pruning end, 1 roots, 2556 extra nodes, 0 pruned nodes, max_depth=12\n",
      "[18:37:42] /workspace/src/tree/updater_prune.cc:74: tree pruning end, 1 roots, 2738 extra nodes, 0 pruned nodes, max_depth=12\n",
      "[18:37:43] /workspace/src/tree/updater_prune.cc:74: tree pruning end, 1 roots, 2244 extra nodes, 0 pruned nodes, max_depth=12\n",
      "[18:37:44] /workspace/src/tree/updater_prune.cc:74: tree pruning end, 1 roots, 2038 extra nodes, 0 pruned nodes, max_depth=12\n",
      "[18:37:45] /workspace/src/tree/updater_prune.cc:74: tree pruning end, 1 roots, 2224 extra nodes, 0 pruned nodes, max_depth=12\n",
      "[18:37:46] /workspace/src/tree/updater_prune.cc:74: tree pruning end, 1 roots, 1884 extra nodes, 0 pruned nodes, max_depth=12\n",
      "[18:37:47] /workspace/src/tree/updater_prune.cc:74: tree pruning end, 1 roots, 2330 extra nodes, 0 pruned nodes, max_depth=12\n",
      "[18:37:49] /workspace/src/tree/updater_prune.cc:74: tree pruning end, 1 roots, 2666 extra nodes, 0 pruned nodes, max_depth=12\n",
      "[18:37:50] /workspace/src/tree/updater_prune.cc:74: tree pruning end, 1 roots, 2028 extra nodes, 0 pruned nodes, max_depth=12\n",
      "[18:37:51] /workspace/src/tree/updater_prune.cc:74: tree pruning end, 1 roots, 2262 extra nodes, 0 pruned nodes, max_depth=12\n",
      "[18:37:52] /workspace/src/tree/updater_prune.cc:74: tree pruning end, 1 roots, 2172 extra nodes, 0 pruned nodes, max_depth=12\n",
      "[18:37:53] /workspace/src/tree/updater_prune.cc:74: tree pruning end, 1 roots, 2048 extra nodes, 0 pruned nodes, max_depth=12\n",
      "[18:37:54] /workspace/src/tree/updater_prune.cc:74: tree pruning end, 1 roots, 2244 extra nodes, 0 pruned nodes, max_depth=12\n",
      "[18:37:55] /workspace/src/tree/updater_prune.cc:74: tree pruning end, 1 roots, 2160 extra nodes, 0 pruned nodes, max_depth=12\n",
      "[18:37:56] /workspace/src/tree/updater_prune.cc:74: tree pruning end, 1 roots, 2360 extra nodes, 0 pruned nodes, max_depth=12\n",
      "[18:37:57] /workspace/src/tree/updater_prune.cc:74: tree pruning end, 1 roots, 2024 extra nodes, 0 pruned nodes, max_depth=12\n"
     ]
    },
    {
     "name": "stdout",
     "output_type": "stream",
     "text": [
      "[18:37:58] /workspace/src/tree/updater_prune.cc:74: tree pruning end, 1 roots, 2052 extra nodes, 0 pruned nodes, max_depth=12\n",
      "[18:37:59] /workspace/src/tree/updater_prune.cc:74: tree pruning end, 1 roots, 2090 extra nodes, 0 pruned nodes, max_depth=12\n",
      "[18:38:01] /workspace/src/tree/updater_prune.cc:74: tree pruning end, 1 roots, 2162 extra nodes, 0 pruned nodes, max_depth=12\n",
      "[18:38:02] /workspace/src/tree/updater_prune.cc:74: tree pruning end, 1 roots, 2082 extra nodes, 0 pruned nodes, max_depth=12\n",
      "[18:38:03] /workspace/src/tree/updater_prune.cc:74: tree pruning end, 1 roots, 2042 extra nodes, 0 pruned nodes, max_depth=12\n",
      "[18:38:04] /workspace/src/tree/updater_prune.cc:74: tree pruning end, 1 roots, 2384 extra nodes, 0 pruned nodes, max_depth=12\n",
      "[18:38:05] /workspace/src/tree/updater_prune.cc:74: tree pruning end, 1 roots, 2344 extra nodes, 0 pruned nodes, max_depth=12\n",
      "[18:38:06] /workspace/src/tree/updater_prune.cc:74: tree pruning end, 1 roots, 2214 extra nodes, 0 pruned nodes, max_depth=12\n",
      "[18:38:07] /workspace/src/tree/updater_prune.cc:74: tree pruning end, 1 roots, 2216 extra nodes, 0 pruned nodes, max_depth=12\n",
      "[18:38:08] /workspace/src/tree/updater_prune.cc:74: tree pruning end, 1 roots, 2306 extra nodes, 0 pruned nodes, max_depth=12\n",
      "[18:38:09] /workspace/src/tree/updater_prune.cc:74: tree pruning end, 1 roots, 2094 extra nodes, 0 pruned nodes, max_depth=12\n",
      "[18:38:11] /workspace/src/tree/updater_prune.cc:74: tree pruning end, 1 roots, 1962 extra nodes, 0 pruned nodes, max_depth=12\n",
      "[18:38:12] /workspace/src/tree/updater_prune.cc:74: tree pruning end, 1 roots, 2090 extra nodes, 0 pruned nodes, max_depth=12\n",
      "[18:38:13] /workspace/src/tree/updater_prune.cc:74: tree pruning end, 1 roots, 1784 extra nodes, 0 pruned nodes, max_depth=12\n",
      "[18:38:14] /workspace/src/tree/updater_prune.cc:74: tree pruning end, 1 roots, 2134 extra nodes, 0 pruned nodes, max_depth=12\n",
      "[18:38:16] /workspace/src/tree/updater_prune.cc:74: tree pruning end, 1 roots, 2386 extra nodes, 0 pruned nodes, max_depth=12\n",
      "[18:38:17] /workspace/src/tree/updater_prune.cc:74: tree pruning end, 1 roots, 1962 extra nodes, 0 pruned nodes, max_depth=12\n",
      "[18:38:18] /workspace/src/tree/updater_prune.cc:74: tree pruning end, 1 roots, 2362 extra nodes, 0 pruned nodes, max_depth=12\n",
      "[18:38:19] /workspace/src/tree/updater_prune.cc:74: tree pruning end, 1 roots, 1948 extra nodes, 0 pruned nodes, max_depth=12\n",
      "[18:38:20] /workspace/src/tree/updater_prune.cc:74: tree pruning end, 1 roots, 1810 extra nodes, 0 pruned nodes, max_depth=12\n",
      "[18:38:21] /workspace/src/tree/updater_prune.cc:74: tree pruning end, 1 roots, 2184 extra nodes, 0 pruned nodes, max_depth=12\n",
      "[18:38:22] /workspace/src/tree/updater_prune.cc:74: tree pruning end, 1 roots, 1810 extra nodes, 0 pruned nodes, max_depth=12\n",
      "[18:38:23] /workspace/src/tree/updater_prune.cc:74: tree pruning end, 1 roots, 1768 extra nodes, 0 pruned nodes, max_depth=12\n",
      "[18:38:24] /workspace/src/tree/updater_prune.cc:74: tree pruning end, 1 roots, 1538 extra nodes, 0 pruned nodes, max_depth=12\n",
      "[18:38:25] /workspace/src/tree/updater_prune.cc:74: tree pruning end, 1 roots, 1972 extra nodes, 0 pruned nodes, max_depth=12\n",
      "[18:38:27] /workspace/src/tree/updater_prune.cc:74: tree pruning end, 1 roots, 1964 extra nodes, 0 pruned nodes, max_depth=12\n",
      "[18:38:28] /workspace/src/tree/updater_prune.cc:74: tree pruning end, 1 roots, 2088 extra nodes, 0 pruned nodes, max_depth=12\n",
      "[18:38:29] /workspace/src/tree/updater_prune.cc:74: tree pruning end, 1 roots, 1864 extra nodes, 0 pruned nodes, max_depth=12\n",
      "[18:38:30] /workspace/src/tree/updater_prune.cc:74: tree pruning end, 1 roots, 1736 extra nodes, 0 pruned nodes, max_depth=12\n",
      "[18:38:31] /workspace/src/tree/updater_prune.cc:74: tree pruning end, 1 roots, 1930 extra nodes, 0 pruned nodes, max_depth=12\n",
      "[18:38:32] /workspace/src/tree/updater_prune.cc:74: tree pruning end, 1 roots, 1854 extra nodes, 0 pruned nodes, max_depth=12\n",
      "[18:38:33] /workspace/src/tree/updater_prune.cc:74: tree pruning end, 1 roots, 2014 extra nodes, 0 pruned nodes, max_depth=12\n",
      "[18:38:34] /workspace/src/tree/updater_prune.cc:74: tree pruning end, 1 roots, 2348 extra nodes, 0 pruned nodes, max_depth=12\n",
      "[18:38:35] /workspace/src/tree/updater_prune.cc:74: tree pruning end, 1 roots, 1726 extra nodes, 0 pruned nodes, max_depth=12\n",
      "[18:38:36] /workspace/src/tree/updater_prune.cc:74: tree pruning end, 1 roots, 2036 extra nodes, 0 pruned nodes, max_depth=12\n",
      "[18:38:37] /workspace/src/tree/updater_prune.cc:74: tree pruning end, 1 roots, 1744 extra nodes, 0 pruned nodes, max_depth=12\n",
      "[18:38:39] /workspace/src/tree/updater_prune.cc:74: tree pruning end, 1 roots, 1924 extra nodes, 0 pruned nodes, max_depth=12\n",
      "[18:38:40] /workspace/src/tree/updater_prune.cc:74: tree pruning end, 1 roots, 1242 extra nodes, 0 pruned nodes, max_depth=12\n",
      "[100]\ttrain-logloss:0.037422\tvalid-logloss:0.041683\ttrain-gini:0.999126\tvalid-gini:0.997434\n",
      "[18:38:41] /workspace/src/tree/updater_prune.cc:74: tree pruning end, 1 roots, 1590 extra nodes, 0 pruned nodes, max_depth=12\n",
      "[18:38:42] /workspace/src/tree/updater_prune.cc:74: tree pruning end, 1 roots, 1838 extra nodes, 0 pruned nodes, max_depth=12\n",
      "[18:38:43] /workspace/src/tree/updater_prune.cc:74: tree pruning end, 1 roots, 1738 extra nodes, 0 pruned nodes, max_depth=12\n",
      "[18:38:44] /workspace/src/tree/updater_prune.cc:74: tree pruning end, 1 roots, 1724 extra nodes, 0 pruned nodes, max_depth=12\n",
      "[18:38:45] /workspace/src/tree/updater_prune.cc:74: tree pruning end, 1 roots, 1508 extra nodes, 0 pruned nodes, max_depth=12\n",
      "[18:38:46] /workspace/src/tree/updater_prune.cc:74: tree pruning end, 1 roots, 1506 extra nodes, 0 pruned nodes, max_depth=12\n",
      "[18:38:48] /workspace/src/tree/updater_prune.cc:74: tree pruning end, 1 roots, 1370 extra nodes, 0 pruned nodes, max_depth=12\n",
      "[18:38:49] /workspace/src/tree/updater_prune.cc:74: tree pruning end, 1 roots, 1460 extra nodes, 0 pruned nodes, max_depth=12\n",
      "[18:38:50] /workspace/src/tree/updater_prune.cc:74: tree pruning end, 1 roots, 1564 extra nodes, 0 pruned nodes, max_depth=12\n",
      "[18:38:51] /workspace/src/tree/updater_prune.cc:74: tree pruning end, 1 roots, 1286 extra nodes, 0 pruned nodes, max_depth=12\n",
      "[18:38:52] /workspace/src/tree/updater_prune.cc:74: tree pruning end, 1 roots, 1338 extra nodes, 0 pruned nodes, max_depth=12\n",
      "[18:38:53] /workspace/src/tree/updater_prune.cc:74: tree pruning end, 1 roots, 1406 extra nodes, 0 pruned nodes, max_depth=12\n",
      "[18:38:54] /workspace/src/tree/updater_prune.cc:74: tree pruning end, 1 roots, 1332 extra nodes, 0 pruned nodes, max_depth=12\n",
      "[18:38:56] /workspace/src/tree/updater_prune.cc:74: tree pruning end, 1 roots, 1838 extra nodes, 0 pruned nodes, max_depth=12\n",
      "[18:38:57] /workspace/src/tree/updater_prune.cc:74: tree pruning end, 1 roots, 1596 extra nodes, 0 pruned nodes, max_depth=12\n",
      "[18:38:58] /workspace/src/tree/updater_prune.cc:74: tree pruning end, 1 roots, 1326 extra nodes, 0 pruned nodes, max_depth=12\n",
      "[18:38:59] /workspace/src/tree/updater_prune.cc:74: tree pruning end, 1 roots, 1290 extra nodes, 0 pruned nodes, max_depth=12\n",
      "[18:39:00] /workspace/src/tree/updater_prune.cc:74: tree pruning end, 1 roots, 1348 extra nodes, 0 pruned nodes, max_depth=12\n",
      "[18:39:01] /workspace/src/tree/updater_prune.cc:74: tree pruning end, 1 roots, 1264 extra nodes, 0 pruned nodes, max_depth=12\n",
      "[18:39:02] /workspace/src/tree/updater_prune.cc:74: tree pruning end, 1 roots, 1816 extra nodes, 0 pruned nodes, max_depth=12\n",
      "[18:39:03] /workspace/src/tree/updater_prune.cc:74: tree pruning end, 1 roots, 1346 extra nodes, 0 pruned nodes, max_depth=12\n",
      "[18:39:04] /workspace/src/tree/updater_prune.cc:74: tree pruning end, 1 roots, 1458 extra nodes, 0 pruned nodes, max_depth=12\n",
      "[18:39:05] /workspace/src/tree/updater_prune.cc:74: tree pruning end, 1 roots, 1304 extra nodes, 0 pruned nodes, max_depth=12\n",
      "[18:39:07] /workspace/src/tree/updater_prune.cc:74: tree pruning end, 1 roots, 1144 extra nodes, 0 pruned nodes, max_depth=12\n",
      "[18:39:08] /workspace/src/tree/updater_prune.cc:74: tree pruning end, 1 roots, 1810 extra nodes, 0 pruned nodes, max_depth=12\n",
      "[18:39:09] /workspace/src/tree/updater_prune.cc:74: tree pruning end, 1 roots, 1340 extra nodes, 0 pruned nodes, max_depth=12\n",
      "[18:39:10] /workspace/src/tree/updater_prune.cc:74: tree pruning end, 1 roots, 1062 extra nodes, 0 pruned nodes, max_depth=12\n"
     ]
    },
    {
     "name": "stdout",
     "output_type": "stream",
     "text": [
      "[18:39:11] /workspace/src/tree/updater_prune.cc:74: tree pruning end, 1 roots, 1334 extra nodes, 0 pruned nodes, max_depth=12\n",
      "[18:39:12] /workspace/src/tree/updater_prune.cc:74: tree pruning end, 1 roots, 1440 extra nodes, 0 pruned nodes, max_depth=12\n",
      "[18:39:13] /workspace/src/tree/updater_prune.cc:74: tree pruning end, 1 roots, 1154 extra nodes, 0 pruned nodes, max_depth=12\n",
      "[18:39:14] /workspace/src/tree/updater_prune.cc:74: tree pruning end, 1 roots, 978 extra nodes, 0 pruned nodes, max_depth=12\n",
      "[18:39:15] /workspace/src/tree/updater_prune.cc:74: tree pruning end, 1 roots, 1470 extra nodes, 0 pruned nodes, max_depth=12\n",
      "[18:39:16] /workspace/src/tree/updater_prune.cc:74: tree pruning end, 1 roots, 980 extra nodes, 0 pruned nodes, max_depth=12\n",
      "[18:39:18] /workspace/src/tree/updater_prune.cc:74: tree pruning end, 1 roots, 1086 extra nodes, 0 pruned nodes, max_depth=12\n",
      "[18:39:19] /workspace/src/tree/updater_prune.cc:74: tree pruning end, 1 roots, 1258 extra nodes, 0 pruned nodes, max_depth=12\n",
      "[18:39:20] /workspace/src/tree/updater_prune.cc:74: tree pruning end, 1 roots, 1148 extra nodes, 0 pruned nodes, max_depth=12\n",
      "[18:39:21] /workspace/src/tree/updater_prune.cc:74: tree pruning end, 1 roots, 1500 extra nodes, 0 pruned nodes, max_depth=12\n",
      "[18:39:22] /workspace/src/tree/updater_prune.cc:74: tree pruning end, 1 roots, 1406 extra nodes, 0 pruned nodes, max_depth=12\n",
      "[18:39:23] /workspace/src/tree/updater_prune.cc:74: tree pruning end, 1 roots, 1066 extra nodes, 0 pruned nodes, max_depth=12\n",
      "[18:39:24] /workspace/src/tree/updater_prune.cc:74: tree pruning end, 1 roots, 816 extra nodes, 0 pruned nodes, max_depth=12\n",
      "[18:39:26] /workspace/src/tree/updater_prune.cc:74: tree pruning end, 1 roots, 1164 extra nodes, 0 pruned nodes, max_depth=12\n",
      "[18:39:27] /workspace/src/tree/updater_prune.cc:74: tree pruning end, 1 roots, 1200 extra nodes, 0 pruned nodes, max_depth=12\n",
      "[18:39:28] /workspace/src/tree/updater_prune.cc:74: tree pruning end, 1 roots, 1212 extra nodes, 0 pruned nodes, max_depth=12\n",
      "[18:39:29] /workspace/src/tree/updater_prune.cc:74: tree pruning end, 1 roots, 1054 extra nodes, 0 pruned nodes, max_depth=12\n",
      "[18:39:30] /workspace/src/tree/updater_prune.cc:74: tree pruning end, 1 roots, 1416 extra nodes, 0 pruned nodes, max_depth=12\n",
      "[18:39:32] /workspace/src/tree/updater_prune.cc:74: tree pruning end, 1 roots, 1278 extra nodes, 0 pruned nodes, max_depth=12\n",
      "[18:39:33] /workspace/src/tree/updater_prune.cc:74: tree pruning end, 1 roots, 1804 extra nodes, 0 pruned nodes, max_depth=12\n",
      "[18:39:34] /workspace/src/tree/updater_prune.cc:74: tree pruning end, 1 roots, 1268 extra nodes, 0 pruned nodes, max_depth=12\n",
      "[18:39:35] /workspace/src/tree/updater_prune.cc:74: tree pruning end, 1 roots, 1810 extra nodes, 0 pruned nodes, max_depth=12\n",
      "[18:39:36] /workspace/src/tree/updater_prune.cc:74: tree pruning end, 1 roots, 1598 extra nodes, 0 pruned nodes, max_depth=12\n",
      "[18:39:38] /workspace/src/tree/updater_prune.cc:74: tree pruning end, 1 roots, 1064 extra nodes, 0 pruned nodes, max_depth=12\n",
      "[18:39:39] /workspace/src/tree/updater_prune.cc:74: tree pruning end, 1 roots, 1058 extra nodes, 0 pruned nodes, max_depth=12\n",
      "[18:39:40] /workspace/src/tree/updater_prune.cc:74: tree pruning end, 1 roots, 1182 extra nodes, 0 pruned nodes, max_depth=12\n",
      "[18:39:41] /workspace/src/tree/updater_prune.cc:74: tree pruning end, 1 roots, 824 extra nodes, 0 pruned nodes, max_depth=12\n",
      "[18:39:42] /workspace/src/tree/updater_prune.cc:74: tree pruning end, 1 roots, 1174 extra nodes, 0 pruned nodes, max_depth=12\n",
      "[18:39:44] /workspace/src/tree/updater_prune.cc:74: tree pruning end, 1 roots, 916 extra nodes, 0 pruned nodes, max_depth=12\n",
      "[18:39:45] /workspace/src/tree/updater_prune.cc:74: tree pruning end, 1 roots, 1250 extra nodes, 0 pruned nodes, max_depth=12\n",
      "[18:39:46] /workspace/src/tree/updater_prune.cc:74: tree pruning end, 1 roots, 1342 extra nodes, 0 pruned nodes, max_depth=12\n",
      "[18:39:47] /workspace/src/tree/updater_prune.cc:74: tree pruning end, 1 roots, 1474 extra nodes, 0 pruned nodes, max_depth=12\n",
      "[18:39:48] /workspace/src/tree/updater_prune.cc:74: tree pruning end, 1 roots, 958 extra nodes, 0 pruned nodes, max_depth=12\n",
      "[18:39:49] /workspace/src/tree/updater_prune.cc:74: tree pruning end, 1 roots, 1296 extra nodes, 0 pruned nodes, max_depth=12\n",
      "[18:39:51] /workspace/src/tree/updater_prune.cc:74: tree pruning end, 1 roots, 692 extra nodes, 0 pruned nodes, max_depth=12\n",
      "[18:39:52] /workspace/src/tree/updater_prune.cc:74: tree pruning end, 1 roots, 1268 extra nodes, 0 pruned nodes, max_depth=12\n",
      "[18:39:53] /workspace/src/tree/updater_prune.cc:74: tree pruning end, 1 roots, 718 extra nodes, 0 pruned nodes, max_depth=12\n",
      "[18:39:54] /workspace/src/tree/updater_prune.cc:74: tree pruning end, 1 roots, 1288 extra nodes, 0 pruned nodes, max_depth=12\n",
      "[18:39:55] /workspace/src/tree/updater_prune.cc:74: tree pruning end, 1 roots, 242 extra nodes, 0 pruned nodes, max_depth=12\n",
      "[18:39:56] /workspace/src/tree/updater_prune.cc:74: tree pruning end, 1 roots, 1568 extra nodes, 0 pruned nodes, max_depth=12\n",
      "[18:39:57] /workspace/src/tree/updater_prune.cc:74: tree pruning end, 1 roots, 1112 extra nodes, 0 pruned nodes, max_depth=12\n",
      "[18:39:58] /workspace/src/tree/updater_prune.cc:74: tree pruning end, 1 roots, 516 extra nodes, 0 pruned nodes, max_depth=12\n",
      "[18:40:00] /workspace/src/tree/updater_prune.cc:74: tree pruning end, 1 roots, 1092 extra nodes, 0 pruned nodes, max_depth=12\n",
      "[18:40:01] /workspace/src/tree/updater_prune.cc:74: tree pruning end, 1 roots, 430 extra nodes, 0 pruned nodes, max_depth=12\n",
      "[18:40:02] /workspace/src/tree/updater_prune.cc:74: tree pruning end, 1 roots, 1240 extra nodes, 0 pruned nodes, max_depth=12\n",
      "[18:40:03] /workspace/src/tree/updater_prune.cc:74: tree pruning end, 1 roots, 1084 extra nodes, 0 pruned nodes, max_depth=12\n",
      "[18:40:04] /workspace/src/tree/updater_prune.cc:74: tree pruning end, 1 roots, 674 extra nodes, 0 pruned nodes, max_depth=12\n",
      "[18:40:05] /workspace/src/tree/updater_prune.cc:74: tree pruning end, 1 roots, 606 extra nodes, 0 pruned nodes, max_depth=12\n",
      "[18:40:06] /workspace/src/tree/updater_prune.cc:74: tree pruning end, 1 roots, 1378 extra nodes, 0 pruned nodes, max_depth=12\n",
      "[18:40:07] /workspace/src/tree/updater_prune.cc:74: tree pruning end, 1 roots, 1160 extra nodes, 0 pruned nodes, max_depth=12\n",
      "[18:40:09] /workspace/src/tree/updater_prune.cc:74: tree pruning end, 1 roots, 1790 extra nodes, 0 pruned nodes, max_depth=12\n",
      "[18:40:10] /workspace/src/tree/updater_prune.cc:74: tree pruning end, 1 roots, 1406 extra nodes, 0 pruned nodes, max_depth=12\n",
      "[18:40:11] /workspace/src/tree/updater_prune.cc:74: tree pruning end, 1 roots, 582 extra nodes, 0 pruned nodes, max_depth=12\n",
      "[18:40:12] /workspace/src/tree/updater_prune.cc:74: tree pruning end, 1 roots, 1236 extra nodes, 0 pruned nodes, max_depth=12\n",
      "[18:40:13] /workspace/src/tree/updater_prune.cc:74: tree pruning end, 1 roots, 442 extra nodes, 0 pruned nodes, max_depth=12\n",
      "[18:40:14] /workspace/src/tree/updater_prune.cc:74: tree pruning end, 1 roots, 830 extra nodes, 0 pruned nodes, max_depth=12\n",
      "[18:40:15] /workspace/src/tree/updater_prune.cc:74: tree pruning end, 1 roots, 1440 extra nodes, 0 pruned nodes, max_depth=12\n",
      "[18:40:17] /workspace/src/tree/updater_prune.cc:74: tree pruning end, 1 roots, 790 extra nodes, 0 pruned nodes, max_depth=12\n",
      "[18:40:18] /workspace/src/tree/updater_prune.cc:74: tree pruning end, 1 roots, 1662 extra nodes, 0 pruned nodes, max_depth=12\n",
      "[18:40:19] /workspace/src/tree/updater_prune.cc:74: tree pruning end, 1 roots, 542 extra nodes, 0 pruned nodes, max_depth=12\n",
      "[18:40:20] /workspace/src/tree/updater_prune.cc:74: tree pruning end, 1 roots, 900 extra nodes, 0 pruned nodes, max_depth=12\n",
      "[18:40:21] /workspace/src/tree/updater_prune.cc:74: tree pruning end, 1 roots, 1392 extra nodes, 0 pruned nodes, max_depth=12\n",
      "[18:40:23] /workspace/src/tree/updater_prune.cc:74: tree pruning end, 1 roots, 1114 extra nodes, 0 pruned nodes, max_depth=12\n",
      "[18:40:24] /workspace/src/tree/updater_prune.cc:74: tree pruning end, 1 roots, 1118 extra nodes, 0 pruned nodes, max_depth=12\n",
      "[18:40:25] /workspace/src/tree/updater_prune.cc:74: tree pruning end, 1 roots, 1976 extra nodes, 0 pruned nodes, max_depth=12\n",
      "[18:40:26] /workspace/src/tree/updater_prune.cc:74: tree pruning end, 1 roots, 604 extra nodes, 0 pruned nodes, max_depth=12\n"
     ]
    },
    {
     "name": "stdout",
     "output_type": "stream",
     "text": [
      "[18:40:27] /workspace/src/tree/updater_prune.cc:74: tree pruning end, 1 roots, 322 extra nodes, 0 pruned nodes, max_depth=12\n",
      "[18:40:28] /workspace/src/tree/updater_prune.cc:74: tree pruning end, 1 roots, 928 extra nodes, 0 pruned nodes, max_depth=12\n",
      "[18:40:29] /workspace/src/tree/updater_prune.cc:74: tree pruning end, 1 roots, 302 extra nodes, 0 pruned nodes, max_depth=12\n",
      "[18:40:31] /workspace/src/tree/updater_prune.cc:74: tree pruning end, 1 roots, 382 extra nodes, 0 pruned nodes, max_depth=12\n",
      "[18:40:32] /workspace/src/tree/updater_prune.cc:74: tree pruning end, 1 roots, 1720 extra nodes, 0 pruned nodes, max_depth=12\n",
      "[18:40:33] /workspace/src/tree/updater_prune.cc:74: tree pruning end, 1 roots, 1216 extra nodes, 0 pruned nodes, max_depth=12\n",
      "[18:40:34] /workspace/src/tree/updater_prune.cc:74: tree pruning end, 1 roots, 976 extra nodes, 0 pruned nodes, max_depth=12\n",
      "[200]\ttrain-logloss:0.023153\tvalid-logloss:0.03286\ttrain-gini:0.999747\tvalid-gini:0.997726\n",
      "[18:40:36] /workspace/src/tree/updater_prune.cc:74: tree pruning end, 1 roots, 1178 extra nodes, 0 pruned nodes, max_depth=12\n",
      "[18:40:37] /workspace/src/tree/updater_prune.cc:74: tree pruning end, 1 roots, 2006 extra nodes, 0 pruned nodes, max_depth=12\n",
      "[18:40:38] /workspace/src/tree/updater_prune.cc:74: tree pruning end, 1 roots, 1576 extra nodes, 0 pruned nodes, max_depth=12\n",
      "[18:40:39] /workspace/src/tree/updater_prune.cc:74: tree pruning end, 1 roots, 1480 extra nodes, 0 pruned nodes, max_depth=12\n",
      "[18:40:41] /workspace/src/tree/updater_prune.cc:74: tree pruning end, 1 roots, 508 extra nodes, 0 pruned nodes, max_depth=12\n",
      "[18:40:42] /workspace/src/tree/updater_prune.cc:74: tree pruning end, 1 roots, 622 extra nodes, 0 pruned nodes, max_depth=12\n",
      "[18:40:43] /workspace/src/tree/updater_prune.cc:74: tree pruning end, 1 roots, 974 extra nodes, 0 pruned nodes, max_depth=12\n",
      "[18:40:44] /workspace/src/tree/updater_prune.cc:74: tree pruning end, 1 roots, 860 extra nodes, 0 pruned nodes, max_depth=12\n",
      "[18:40:46] /workspace/src/tree/updater_prune.cc:74: tree pruning end, 1 roots, 2008 extra nodes, 0 pruned nodes, max_depth=12\n",
      "[18:40:47] /workspace/src/tree/updater_prune.cc:74: tree pruning end, 1 roots, 828 extra nodes, 0 pruned nodes, max_depth=12\n",
      "[18:40:48] /workspace/src/tree/updater_prune.cc:74: tree pruning end, 1 roots, 386 extra nodes, 0 pruned nodes, max_depth=12\n",
      "[18:40:49] /workspace/src/tree/updater_prune.cc:74: tree pruning end, 1 roots, 1110 extra nodes, 0 pruned nodes, max_depth=12\n",
      "[18:40:50] /workspace/src/tree/updater_prune.cc:74: tree pruning end, 1 roots, 1442 extra nodes, 0 pruned nodes, max_depth=12\n",
      "[18:40:52] /workspace/src/tree/updater_prune.cc:74: tree pruning end, 1 roots, 1502 extra nodes, 0 pruned nodes, max_depth=12\n",
      "[18:40:53] /workspace/src/tree/updater_prune.cc:74: tree pruning end, 1 roots, 1282 extra nodes, 0 pruned nodes, max_depth=12\n",
      "[18:40:54] /workspace/src/tree/updater_prune.cc:74: tree pruning end, 1 roots, 714 extra nodes, 0 pruned nodes, max_depth=12\n",
      "[18:40:55] /workspace/src/tree/updater_prune.cc:74: tree pruning end, 1 roots, 984 extra nodes, 0 pruned nodes, max_depth=12\n",
      "[18:40:56] /workspace/src/tree/updater_prune.cc:74: tree pruning end, 1 roots, 490 extra nodes, 0 pruned nodes, max_depth=12\n",
      "[18:40:57] /workspace/src/tree/updater_prune.cc:74: tree pruning end, 1 roots, 838 extra nodes, 0 pruned nodes, max_depth=12\n",
      "[18:40:59] /workspace/src/tree/updater_prune.cc:74: tree pruning end, 1 roots, 1140 extra nodes, 0 pruned nodes, max_depth=12\n",
      "[18:41:00] /workspace/src/tree/updater_prune.cc:74: tree pruning end, 1 roots, 1368 extra nodes, 0 pruned nodes, max_depth=12\n",
      "[18:41:01] /workspace/src/tree/updater_prune.cc:74: tree pruning end, 1 roots, 834 extra nodes, 0 pruned nodes, max_depth=12\n",
      "[18:41:02] /workspace/src/tree/updater_prune.cc:74: tree pruning end, 1 roots, 1654 extra nodes, 0 pruned nodes, max_depth=12\n",
      "[18:41:03] /workspace/src/tree/updater_prune.cc:74: tree pruning end, 1 roots, 342 extra nodes, 0 pruned nodes, max_depth=12\n",
      "[18:41:04] /workspace/src/tree/updater_prune.cc:74: tree pruning end, 1 roots, 916 extra nodes, 0 pruned nodes, max_depth=12\n",
      "[18:41:06] /workspace/src/tree/updater_prune.cc:74: tree pruning end, 1 roots, 1294 extra nodes, 0 pruned nodes, max_depth=12\n",
      "[18:41:07] /workspace/src/tree/updater_prune.cc:74: tree pruning end, 1 roots, 306 extra nodes, 0 pruned nodes, max_depth=12\n",
      "[18:41:08] /workspace/src/tree/updater_prune.cc:74: tree pruning end, 1 roots, 1044 extra nodes, 0 pruned nodes, max_depth=12\n",
      "[18:41:09] /workspace/src/tree/updater_prune.cc:74: tree pruning end, 1 roots, 1810 extra nodes, 0 pruned nodes, max_depth=12\n",
      "[18:41:10] /workspace/src/tree/updater_prune.cc:74: tree pruning end, 1 roots, 1792 extra nodes, 0 pruned nodes, max_depth=12\n",
      "[18:41:12] /workspace/src/tree/updater_prune.cc:74: tree pruning end, 1 roots, 1706 extra nodes, 0 pruned nodes, max_depth=12\n",
      "[18:41:13] /workspace/src/tree/updater_prune.cc:74: tree pruning end, 1 roots, 1238 extra nodes, 0 pruned nodes, max_depth=12\n",
      "[18:41:14] /workspace/src/tree/updater_prune.cc:74: tree pruning end, 1 roots, 2036 extra nodes, 0 pruned nodes, max_depth=12\n",
      "[18:41:15] /workspace/src/tree/updater_prune.cc:74: tree pruning end, 1 roots, 1264 extra nodes, 0 pruned nodes, max_depth=12\n",
      "[18:41:16] /workspace/src/tree/updater_prune.cc:74: tree pruning end, 1 roots, 1300 extra nodes, 0 pruned nodes, max_depth=12\n",
      "[18:41:18] /workspace/src/tree/updater_prune.cc:74: tree pruning end, 1 roots, 1932 extra nodes, 0 pruned nodes, max_depth=12\n",
      "[18:41:19] /workspace/src/tree/updater_prune.cc:74: tree pruning end, 1 roots, 1712 extra nodes, 0 pruned nodes, max_depth=12\n",
      "[18:41:20] /workspace/src/tree/updater_prune.cc:74: tree pruning end, 1 roots, 960 extra nodes, 0 pruned nodes, max_depth=12\n",
      "[18:41:21] /workspace/src/tree/updater_prune.cc:74: tree pruning end, 1 roots, 972 extra nodes, 0 pruned nodes, max_depth=12\n",
      "[18:41:22] /workspace/src/tree/updater_prune.cc:74: tree pruning end, 1 roots, 548 extra nodes, 0 pruned nodes, max_depth=12\n",
      "[18:41:24] /workspace/src/tree/updater_prune.cc:74: tree pruning end, 1 roots, 1800 extra nodes, 0 pruned nodes, max_depth=12\n",
      "[18:41:25] /workspace/src/tree/updater_prune.cc:74: tree pruning end, 1 roots, 686 extra nodes, 0 pruned nodes, max_depth=12\n",
      "[18:41:26] /workspace/src/tree/updater_prune.cc:74: tree pruning end, 1 roots, 636 extra nodes, 0 pruned nodes, max_depth=12\n",
      "[18:41:27] /workspace/src/tree/updater_prune.cc:74: tree pruning end, 1 roots, 1404 extra nodes, 0 pruned nodes, max_depth=12\n",
      "[18:41:28] /workspace/src/tree/updater_prune.cc:74: tree pruning end, 1 roots, 1192 extra nodes, 0 pruned nodes, max_depth=12\n",
      "[18:41:29] /workspace/src/tree/updater_prune.cc:74: tree pruning end, 1 roots, 526 extra nodes, 0 pruned nodes, max_depth=12\n",
      "[18:41:31] /workspace/src/tree/updater_prune.cc:74: tree pruning end, 1 roots, 1048 extra nodes, 0 pruned nodes, max_depth=12\n",
      "[18:41:32] /workspace/src/tree/updater_prune.cc:74: tree pruning end, 1 roots, 838 extra nodes, 0 pruned nodes, max_depth=12\n",
      "[18:41:33] /workspace/src/tree/updater_prune.cc:74: tree pruning end, 1 roots, 1784 extra nodes, 0 pruned nodes, max_depth=12\n",
      "[18:41:34] /workspace/src/tree/updater_prune.cc:74: tree pruning end, 1 roots, 2086 extra nodes, 0 pruned nodes, max_depth=12\n",
      "[18:41:35] /workspace/src/tree/updater_prune.cc:74: tree pruning end, 1 roots, 1588 extra nodes, 0 pruned nodes, max_depth=12\n",
      "[18:41:36] /workspace/src/tree/updater_prune.cc:74: tree pruning end, 1 roots, 1382 extra nodes, 0 pruned nodes, max_depth=12\n",
      "[18:41:37] /workspace/src/tree/updater_prune.cc:74: tree pruning end, 1 roots, 488 extra nodes, 0 pruned nodes, max_depth=12\n",
      "[18:41:39] /workspace/src/tree/updater_prune.cc:74: tree pruning end, 1 roots, 1180 extra nodes, 0 pruned nodes, max_depth=12\n",
      "[18:41:40] /workspace/src/tree/updater_prune.cc:74: tree pruning end, 1 roots, 1240 extra nodes, 0 pruned nodes, max_depth=12\n",
      "[18:41:41] /workspace/src/tree/updater_prune.cc:74: tree pruning end, 1 roots, 1792 extra nodes, 0 pruned nodes, max_depth=12\n",
      "[18:41:42] /workspace/src/tree/updater_prune.cc:74: tree pruning end, 1 roots, 1048 extra nodes, 0 pruned nodes, max_depth=12\n",
      "[18:41:43] /workspace/src/tree/updater_prune.cc:74: tree pruning end, 1 roots, 960 extra nodes, 0 pruned nodes, max_depth=12\n"
     ]
    },
    {
     "name": "stdout",
     "output_type": "stream",
     "text": [
      "[18:41:44] /workspace/src/tree/updater_prune.cc:74: tree pruning end, 1 roots, 598 extra nodes, 0 pruned nodes, max_depth=12\n",
      "[18:41:46] /workspace/src/tree/updater_prune.cc:74: tree pruning end, 1 roots, 992 extra nodes, 0 pruned nodes, max_depth=12\n",
      "[18:41:47] /workspace/src/tree/updater_prune.cc:74: tree pruning end, 1 roots, 1194 extra nodes, 0 pruned nodes, max_depth=12\n",
      "[18:41:48] /workspace/src/tree/updater_prune.cc:74: tree pruning end, 1 roots, 700 extra nodes, 0 pruned nodes, max_depth=12\n",
      "[18:41:49] /workspace/src/tree/updater_prune.cc:74: tree pruning end, 1 roots, 1454 extra nodes, 0 pruned nodes, max_depth=12\n",
      "[18:41:50] /workspace/src/tree/updater_prune.cc:74: tree pruning end, 1 roots, 834 extra nodes, 0 pruned nodes, max_depth=12\n",
      "[18:41:51] /workspace/src/tree/updater_prune.cc:74: tree pruning end, 1 roots, 862 extra nodes, 0 pruned nodes, max_depth=12\n",
      "[18:41:52] /workspace/src/tree/updater_prune.cc:74: tree pruning end, 1 roots, 1890 extra nodes, 0 pruned nodes, max_depth=12\n",
      "[18:41:54] /workspace/src/tree/updater_prune.cc:74: tree pruning end, 1 roots, 880 extra nodes, 0 pruned nodes, max_depth=12\n",
      "[18:41:55] /workspace/src/tree/updater_prune.cc:74: tree pruning end, 1 roots, 1746 extra nodes, 0 pruned nodes, max_depth=12\n",
      "[18:41:56] /workspace/src/tree/updater_prune.cc:74: tree pruning end, 1 roots, 2110 extra nodes, 0 pruned nodes, max_depth=12\n",
      "[18:41:57] /workspace/src/tree/updater_prune.cc:74: tree pruning end, 1 roots, 1432 extra nodes, 0 pruned nodes, max_depth=12\n",
      "[18:41:58] /workspace/src/tree/updater_prune.cc:74: tree pruning end, 1 roots, 922 extra nodes, 0 pruned nodes, max_depth=12\n",
      "[18:41:59] /workspace/src/tree/updater_prune.cc:74: tree pruning end, 1 roots, 864 extra nodes, 0 pruned nodes, max_depth=12\n",
      "[18:42:00] /workspace/src/tree/updater_prune.cc:74: tree pruning end, 1 roots, 1110 extra nodes, 0 pruned nodes, max_depth=12\n",
      "[18:42:01] /workspace/src/tree/updater_prune.cc:74: tree pruning end, 1 roots, 1094 extra nodes, 0 pruned nodes, max_depth=12\n",
      "[18:42:03] /workspace/src/tree/updater_prune.cc:74: tree pruning end, 1 roots, 684 extra nodes, 0 pruned nodes, max_depth=12\n",
      "[18:42:04] /workspace/src/tree/updater_prune.cc:74: tree pruning end, 1 roots, 1460 extra nodes, 0 pruned nodes, max_depth=12\n",
      "[18:42:05] /workspace/src/tree/updater_prune.cc:74: tree pruning end, 1 roots, 1298 extra nodes, 0 pruned nodes, max_depth=12\n",
      "[18:42:06] /workspace/src/tree/updater_prune.cc:74: tree pruning end, 1 roots, 1512 extra nodes, 0 pruned nodes, max_depth=12\n",
      "[18:42:07] /workspace/src/tree/updater_prune.cc:74: tree pruning end, 1 roots, 1120 extra nodes, 0 pruned nodes, max_depth=12\n",
      "[18:42:08] /workspace/src/tree/updater_prune.cc:74: tree pruning end, 1 roots, 960 extra nodes, 0 pruned nodes, max_depth=12\n",
      "[18:42:10] /workspace/src/tree/updater_prune.cc:74: tree pruning end, 1 roots, 560 extra nodes, 0 pruned nodes, max_depth=12\n",
      "[18:42:11] /workspace/src/tree/updater_prune.cc:74: tree pruning end, 1 roots, 1366 extra nodes, 0 pruned nodes, max_depth=12\n",
      "[18:42:12] /workspace/src/tree/updater_prune.cc:74: tree pruning end, 1 roots, 1250 extra nodes, 0 pruned nodes, max_depth=12\n",
      "[18:42:13] /workspace/src/tree/updater_prune.cc:74: tree pruning end, 1 roots, 1482 extra nodes, 0 pruned nodes, max_depth=12\n",
      "[18:42:14] /workspace/src/tree/updater_prune.cc:74: tree pruning end, 1 roots, 1880 extra nodes, 0 pruned nodes, max_depth=12\n",
      "[18:42:15] /workspace/src/tree/updater_prune.cc:74: tree pruning end, 1 roots, 1662 extra nodes, 0 pruned nodes, max_depth=12\n",
      "[18:42:16] /workspace/src/tree/updater_prune.cc:74: tree pruning end, 1 roots, 1476 extra nodes, 0 pruned nodes, max_depth=12\n",
      "[18:42:17] /workspace/src/tree/updater_prune.cc:74: tree pruning end, 1 roots, 724 extra nodes, 0 pruned nodes, max_depth=12\n",
      "[18:42:19] /workspace/src/tree/updater_prune.cc:74: tree pruning end, 1 roots, 1758 extra nodes, 0 pruned nodes, max_depth=12\n",
      "[18:42:20] /workspace/src/tree/updater_prune.cc:74: tree pruning end, 1 roots, 1218 extra nodes, 0 pruned nodes, max_depth=12\n",
      "[18:42:21] /workspace/src/tree/updater_prune.cc:74: tree pruning end, 1 roots, 1258 extra nodes, 0 pruned nodes, max_depth=12\n",
      "[18:42:22] /workspace/src/tree/updater_prune.cc:74: tree pruning end, 1 roots, 1442 extra nodes, 0 pruned nodes, max_depth=12\n",
      "[18:42:23] /workspace/src/tree/updater_prune.cc:74: tree pruning end, 1 roots, 1254 extra nodes, 0 pruned nodes, max_depth=12\n",
      "[18:42:25] /workspace/src/tree/updater_prune.cc:74: tree pruning end, 1 roots, 1142 extra nodes, 0 pruned nodes, max_depth=12\n",
      "[18:42:26] /workspace/src/tree/updater_prune.cc:74: tree pruning end, 1 roots, 968 extra nodes, 0 pruned nodes, max_depth=12\n",
      "[18:42:27] /workspace/src/tree/updater_prune.cc:74: tree pruning end, 1 roots, 794 extra nodes, 0 pruned nodes, max_depth=12\n",
      "[18:42:28] /workspace/src/tree/updater_prune.cc:74: tree pruning end, 1 roots, 1170 extra nodes, 0 pruned nodes, max_depth=12\n",
      "[18:42:29] /workspace/src/tree/updater_prune.cc:74: tree pruning end, 1 roots, 1550 extra nodes, 0 pruned nodes, max_depth=12\n",
      "[18:42:31] /workspace/src/tree/updater_prune.cc:74: tree pruning end, 1 roots, 1804 extra nodes, 0 pruned nodes, max_depth=12\n",
      "[18:42:32] /workspace/src/tree/updater_prune.cc:74: tree pruning end, 1 roots, 1258 extra nodes, 0 pruned nodes, max_depth=12\n",
      "[300]\ttrain-logloss:0.014832\tvalid-logloss:0.029805\ttrain-gini:0.999958\tvalid-gini:0.997775\n",
      "[18:42:33] /workspace/src/tree/updater_prune.cc:74: tree pruning end, 1 roots, 1138 extra nodes, 0 pruned nodes, max_depth=12\n",
      "[18:42:34] /workspace/src/tree/updater_prune.cc:74: tree pruning end, 1 roots, 804 extra nodes, 0 pruned nodes, max_depth=12\n",
      "[18:42:35] /workspace/src/tree/updater_prune.cc:74: tree pruning end, 1 roots, 1146 extra nodes, 0 pruned nodes, max_depth=12\n",
      "[18:42:37] /workspace/src/tree/updater_prune.cc:74: tree pruning end, 1 roots, 586 extra nodes, 0 pruned nodes, max_depth=12\n",
      "[18:42:38] /workspace/src/tree/updater_prune.cc:74: tree pruning end, 1 roots, 1576 extra nodes, 0 pruned nodes, max_depth=12\n",
      "[18:42:40] /workspace/src/tree/updater_prune.cc:74: tree pruning end, 1 roots, 1760 extra nodes, 0 pruned nodes, max_depth=12\n",
      "[18:42:41] /workspace/src/tree/updater_prune.cc:74: tree pruning end, 1 roots, 1644 extra nodes, 0 pruned nodes, max_depth=12\n",
      "[18:42:42] /workspace/src/tree/updater_prune.cc:74: tree pruning end, 1 roots, 624 extra nodes, 0 pruned nodes, max_depth=12\n",
      "[18:42:43] /workspace/src/tree/updater_prune.cc:74: tree pruning end, 1 roots, 1564 extra nodes, 0 pruned nodes, max_depth=12\n",
      "[18:42:44] /workspace/src/tree/updater_prune.cc:74: tree pruning end, 1 roots, 1366 extra nodes, 0 pruned nodes, max_depth=12\n",
      "[18:42:46] /workspace/src/tree/updater_prune.cc:74: tree pruning end, 1 roots, 1378 extra nodes, 0 pruned nodes, max_depth=12\n",
      "[18:42:47] /workspace/src/tree/updater_prune.cc:74: tree pruning end, 1 roots, 714 extra nodes, 0 pruned nodes, max_depth=12\n",
      "[18:42:48] /workspace/src/tree/updater_prune.cc:74: tree pruning end, 1 roots, 1690 extra nodes, 0 pruned nodes, max_depth=12\n",
      "[18:42:49] /workspace/src/tree/updater_prune.cc:74: tree pruning end, 1 roots, 884 extra nodes, 0 pruned nodes, max_depth=12\n",
      "[18:42:51] /workspace/src/tree/updater_prune.cc:74: tree pruning end, 1 roots, 860 extra nodes, 0 pruned nodes, max_depth=12\n",
      "[18:42:52] /workspace/src/tree/updater_prune.cc:74: tree pruning end, 1 roots, 1892 extra nodes, 0 pruned nodes, max_depth=12\n",
      "[18:42:53] /workspace/src/tree/updater_prune.cc:74: tree pruning end, 1 roots, 1408 extra nodes, 0 pruned nodes, max_depth=12\n",
      "[18:42:54] /workspace/src/tree/updater_prune.cc:74: tree pruning end, 1 roots, 2200 extra nodes, 0 pruned nodes, max_depth=12\n",
      "[18:42:55] /workspace/src/tree/updater_prune.cc:74: tree pruning end, 1 roots, 1384 extra nodes, 0 pruned nodes, max_depth=12\n",
      "[18:42:57] /workspace/src/tree/updater_prune.cc:74: tree pruning end, 1 roots, 1338 extra nodes, 0 pruned nodes, max_depth=12\n",
      "[18:42:58] /workspace/src/tree/updater_prune.cc:74: tree pruning end, 1 roots, 1698 extra nodes, 0 pruned nodes, max_depth=12\n",
      "[18:42:59] /workspace/src/tree/updater_prune.cc:74: tree pruning end, 1 roots, 1740 extra nodes, 0 pruned nodes, max_depth=12\n",
      "[18:43:00] /workspace/src/tree/updater_prune.cc:74: tree pruning end, 1 roots, 1794 extra nodes, 0 pruned nodes, max_depth=12\n"
     ]
    },
    {
     "name": "stdout",
     "output_type": "stream",
     "text": [
      "[18:43:02] /workspace/src/tree/updater_prune.cc:74: tree pruning end, 1 roots, 728 extra nodes, 0 pruned nodes, max_depth=12\n",
      "[18:43:03] /workspace/src/tree/updater_prune.cc:74: tree pruning end, 1 roots, 1152 extra nodes, 0 pruned nodes, max_depth=12\n",
      "[18:43:04] /workspace/src/tree/updater_prune.cc:74: tree pruning end, 1 roots, 1394 extra nodes, 0 pruned nodes, max_depth=12\n",
      "[18:43:05] /workspace/src/tree/updater_prune.cc:74: tree pruning end, 1 roots, 1564 extra nodes, 0 pruned nodes, max_depth=12\n",
      "[18:43:06] /workspace/src/tree/updater_prune.cc:74: tree pruning end, 1 roots, 1676 extra nodes, 0 pruned nodes, max_depth=12\n",
      "[18:43:09] /workspace/src/tree/updater_prune.cc:74: tree pruning end, 1 roots, 1432 extra nodes, 0 pruned nodes, max_depth=12\n",
      "[18:43:10] /workspace/src/tree/updater_prune.cc:74: tree pruning end, 1 roots, 1792 extra nodes, 0 pruned nodes, max_depth=12\n",
      "[18:43:11] /workspace/src/tree/updater_prune.cc:74: tree pruning end, 1 roots, 1776 extra nodes, 0 pruned nodes, max_depth=12\n",
      "[18:43:13] /workspace/src/tree/updater_prune.cc:74: tree pruning end, 1 roots, 1294 extra nodes, 0 pruned nodes, max_depth=12\n",
      "[18:43:14] /workspace/src/tree/updater_prune.cc:74: tree pruning end, 1 roots, 1390 extra nodes, 0 pruned nodes, max_depth=12\n",
      "[18:43:15] /workspace/src/tree/updater_prune.cc:74: tree pruning end, 1 roots, 1840 extra nodes, 0 pruned nodes, max_depth=12\n",
      "[18:43:16] /workspace/src/tree/updater_prune.cc:74: tree pruning end, 1 roots, 1534 extra nodes, 0 pruned nodes, max_depth=12\n",
      "[18:43:18] /workspace/src/tree/updater_prune.cc:74: tree pruning end, 1 roots, 1324 extra nodes, 0 pruned nodes, max_depth=12\n",
      "[18:43:19] /workspace/src/tree/updater_prune.cc:74: tree pruning end, 1 roots, 1000 extra nodes, 0 pruned nodes, max_depth=12\n",
      "[18:43:20] /workspace/src/tree/updater_prune.cc:74: tree pruning end, 1 roots, 1168 extra nodes, 0 pruned nodes, max_depth=12\n",
      "[18:43:21] /workspace/src/tree/updater_prune.cc:74: tree pruning end, 1 roots, 1406 extra nodes, 0 pruned nodes, max_depth=12\n",
      "[18:43:23] /workspace/src/tree/updater_prune.cc:74: tree pruning end, 1 roots, 1560 extra nodes, 0 pruned nodes, max_depth=12\n",
      "[18:43:24] /workspace/src/tree/updater_prune.cc:74: tree pruning end, 1 roots, 1462 extra nodes, 0 pruned nodes, max_depth=12\n",
      "[18:43:25] /workspace/src/tree/updater_prune.cc:74: tree pruning end, 1 roots, 1240 extra nodes, 0 pruned nodes, max_depth=12\n",
      "[18:43:26] /workspace/src/tree/updater_prune.cc:74: tree pruning end, 1 roots, 1472 extra nodes, 0 pruned nodes, max_depth=12\n",
      "[18:43:28] /workspace/src/tree/updater_prune.cc:74: tree pruning end, 1 roots, 1606 extra nodes, 0 pruned nodes, max_depth=12\n",
      "[18:43:29] /workspace/src/tree/updater_prune.cc:74: tree pruning end, 1 roots, 2138 extra nodes, 0 pruned nodes, max_depth=12\n",
      "[18:43:30] /workspace/src/tree/updater_prune.cc:74: tree pruning end, 1 roots, 1844 extra nodes, 0 pruned nodes, max_depth=12\n",
      "[18:43:32] /workspace/src/tree/updater_prune.cc:74: tree pruning end, 1 roots, 786 extra nodes, 0 pruned nodes, max_depth=12\n",
      "[18:43:33] /workspace/src/tree/updater_prune.cc:74: tree pruning end, 1 roots, 1396 extra nodes, 0 pruned nodes, max_depth=12\n",
      "[18:43:34] /workspace/src/tree/updater_prune.cc:74: tree pruning end, 1 roots, 1402 extra nodes, 0 pruned nodes, max_depth=12\n",
      "[18:43:35] /workspace/src/tree/updater_prune.cc:74: tree pruning end, 1 roots, 1402 extra nodes, 0 pruned nodes, max_depth=12\n",
      "[18:43:36] /workspace/src/tree/updater_prune.cc:74: tree pruning end, 1 roots, 2014 extra nodes, 0 pruned nodes, max_depth=12\n",
      "[18:43:38] /workspace/src/tree/updater_prune.cc:74: tree pruning end, 1 roots, 1336 extra nodes, 0 pruned nodes, max_depth=12\n",
      "[18:43:39] /workspace/src/tree/updater_prune.cc:74: tree pruning end, 1 roots, 1254 extra nodes, 0 pruned nodes, max_depth=12\n",
      "[18:43:40] /workspace/src/tree/updater_prune.cc:74: tree pruning end, 1 roots, 1372 extra nodes, 0 pruned nodes, max_depth=12\n",
      "[18:43:41] /workspace/src/tree/updater_prune.cc:74: tree pruning end, 1 roots, 1524 extra nodes, 0 pruned nodes, max_depth=12\n",
      "[18:43:42] /workspace/src/tree/updater_prune.cc:74: tree pruning end, 1 roots, 1502 extra nodes, 0 pruned nodes, max_depth=12\n",
      "[18:43:44] /workspace/src/tree/updater_prune.cc:74: tree pruning end, 1 roots, 1336 extra nodes, 0 pruned nodes, max_depth=12\n",
      "[18:43:45] /workspace/src/tree/updater_prune.cc:74: tree pruning end, 1 roots, 1156 extra nodes, 0 pruned nodes, max_depth=12\n",
      "[18:43:46] /workspace/src/tree/updater_prune.cc:74: tree pruning end, 1 roots, 850 extra nodes, 0 pruned nodes, max_depth=12\n",
      "[18:43:47] /workspace/src/tree/updater_prune.cc:74: tree pruning end, 1 roots, 1068 extra nodes, 0 pruned nodes, max_depth=12\n",
      "[18:43:48] /workspace/src/tree/updater_prune.cc:74: tree pruning end, 1 roots, 1344 extra nodes, 0 pruned nodes, max_depth=12\n",
      "[18:43:49] /workspace/src/tree/updater_prune.cc:74: tree pruning end, 1 roots, 1584 extra nodes, 0 pruned nodes, max_depth=12\n",
      "[18:43:51] /workspace/src/tree/updater_prune.cc:74: tree pruning end, 1 roots, 1372 extra nodes, 0 pruned nodes, max_depth=12\n",
      "[18:43:52] /workspace/src/tree/updater_prune.cc:74: tree pruning end, 1 roots, 1158 extra nodes, 0 pruned nodes, max_depth=12\n",
      "[18:43:53] /workspace/src/tree/updater_prune.cc:74: tree pruning end, 1 roots, 1288 extra nodes, 0 pruned nodes, max_depth=12\n",
      "[18:43:54] /workspace/src/tree/updater_prune.cc:74: tree pruning end, 1 roots, 1518 extra nodes, 0 pruned nodes, max_depth=12\n",
      "[18:43:55] /workspace/src/tree/updater_prune.cc:74: tree pruning end, 1 roots, 1634 extra nodes, 0 pruned nodes, max_depth=12\n",
      "[18:43:56] /workspace/src/tree/updater_prune.cc:74: tree pruning end, 1 roots, 1286 extra nodes, 0 pruned nodes, max_depth=12\n",
      "[18:43:58] /workspace/src/tree/updater_prune.cc:74: tree pruning end, 1 roots, 1586 extra nodes, 0 pruned nodes, max_depth=12\n",
      "[18:43:59] /workspace/src/tree/updater_prune.cc:74: tree pruning end, 1 roots, 2384 extra nodes, 0 pruned nodes, max_depth=12\n",
      "[18:44:00] /workspace/src/tree/updater_prune.cc:74: tree pruning end, 1 roots, 1474 extra nodes, 0 pruned nodes, max_depth=12\n",
      "[18:44:01] /workspace/src/tree/updater_prune.cc:74: tree pruning end, 1 roots, 1020 extra nodes, 0 pruned nodes, max_depth=12\n",
      "[18:44:02] /workspace/src/tree/updater_prune.cc:74: tree pruning end, 1 roots, 1094 extra nodes, 0 pruned nodes, max_depth=12\n",
      "[18:44:04] /workspace/src/tree/updater_prune.cc:74: tree pruning end, 1 roots, 1794 extra nodes, 0 pruned nodes, max_depth=12\n",
      "[18:44:05] /workspace/src/tree/updater_prune.cc:74: tree pruning end, 1 roots, 1212 extra nodes, 0 pruned nodes, max_depth=12\n",
      "[18:44:06] /workspace/src/tree/updater_prune.cc:74: tree pruning end, 1 roots, 754 extra nodes, 0 pruned nodes, max_depth=12\n",
      "[18:44:07] /workspace/src/tree/updater_prune.cc:74: tree pruning end, 1 roots, 1290 extra nodes, 0 pruned nodes, max_depth=12\n",
      "[18:44:08] /workspace/src/tree/updater_prune.cc:74: tree pruning end, 1 roots, 1414 extra nodes, 0 pruned nodes, max_depth=12\n",
      "[18:44:09] /workspace/src/tree/updater_prune.cc:74: tree pruning end, 1 roots, 1394 extra nodes, 0 pruned nodes, max_depth=12\n",
      "[18:44:10] /workspace/src/tree/updater_prune.cc:74: tree pruning end, 1 roots, 660 extra nodes, 0 pruned nodes, max_depth=12\n",
      "[18:44:11] /workspace/src/tree/updater_prune.cc:74: tree pruning end, 1 roots, 2234 extra nodes, 0 pruned nodes, max_depth=12\n",
      "[18:44:12] /workspace/src/tree/updater_prune.cc:74: tree pruning end, 1 roots, 1428 extra nodes, 0 pruned nodes, max_depth=12\n",
      "[18:44:14] /workspace/src/tree/updater_prune.cc:74: tree pruning end, 1 roots, 1682 extra nodes, 0 pruned nodes, max_depth=12\n",
      "[18:44:15] /workspace/src/tree/updater_prune.cc:74: tree pruning end, 1 roots, 1358 extra nodes, 0 pruned nodes, max_depth=12\n",
      "[18:44:16] /workspace/src/tree/updater_prune.cc:74: tree pruning end, 1 roots, 1394 extra nodes, 0 pruned nodes, max_depth=12\n",
      "[18:44:17] /workspace/src/tree/updater_prune.cc:74: tree pruning end, 1 roots, 934 extra nodes, 0 pruned nodes, max_depth=12\n",
      "[18:44:18] /workspace/src/tree/updater_prune.cc:74: tree pruning end, 1 roots, 734 extra nodes, 0 pruned nodes, max_depth=12\n",
      "[18:44:20] /workspace/src/tree/updater_prune.cc:74: tree pruning end, 1 roots, 1086 extra nodes, 0 pruned nodes, max_depth=12\n",
      "[18:44:21] /workspace/src/tree/updater_prune.cc:74: tree pruning end, 1 roots, 1080 extra nodes, 0 pruned nodes, max_depth=12\n"
     ]
    },
    {
     "name": "stdout",
     "output_type": "stream",
     "text": [
      "[18:44:22] /workspace/src/tree/updater_prune.cc:74: tree pruning end, 1 roots, 1300 extra nodes, 0 pruned nodes, max_depth=12\n",
      "[18:44:23] /workspace/src/tree/updater_prune.cc:74: tree pruning end, 1 roots, 1522 extra nodes, 0 pruned nodes, max_depth=12\n",
      "[18:44:24] /workspace/src/tree/updater_prune.cc:74: tree pruning end, 1 roots, 1772 extra nodes, 0 pruned nodes, max_depth=12\n",
      "[18:44:26] /workspace/src/tree/updater_prune.cc:74: tree pruning end, 1 roots, 1414 extra nodes, 0 pruned nodes, max_depth=12\n",
      "[18:44:27] /workspace/src/tree/updater_prune.cc:74: tree pruning end, 1 roots, 1450 extra nodes, 0 pruned nodes, max_depth=12\n",
      "[18:44:28] /workspace/src/tree/updater_prune.cc:74: tree pruning end, 1 roots, 1138 extra nodes, 0 pruned nodes, max_depth=12\n",
      "[18:44:29] /workspace/src/tree/updater_prune.cc:74: tree pruning end, 1 roots, 960 extra nodes, 0 pruned nodes, max_depth=12\n",
      "[18:44:30] /workspace/src/tree/updater_prune.cc:74: tree pruning end, 1 roots, 1684 extra nodes, 0 pruned nodes, max_depth=12\n",
      "[18:44:32] /workspace/src/tree/updater_prune.cc:74: tree pruning end, 1 roots, 1192 extra nodes, 0 pruned nodes, max_depth=12\n",
      "[18:44:33] /workspace/src/tree/updater_prune.cc:74: tree pruning end, 1 roots, 1830 extra nodes, 0 pruned nodes, max_depth=12\n",
      "[18:44:34] /workspace/src/tree/updater_prune.cc:74: tree pruning end, 1 roots, 1266 extra nodes, 0 pruned nodes, max_depth=12\n",
      "[400]\ttrain-logloss:0.008956\tvalid-logloss:0.028463\ttrain-gini:0.999997\tvalid-gini:0.997807\n",
      "[18:44:35] /workspace/src/tree/updater_prune.cc:74: tree pruning end, 1 roots, 1030 extra nodes, 0 pruned nodes, max_depth=12\n",
      "[18:44:36] /workspace/src/tree/updater_prune.cc:74: tree pruning end, 1 roots, 1374 extra nodes, 0 pruned nodes, max_depth=12\n",
      "[18:44:38] /workspace/src/tree/updater_prune.cc:74: tree pruning end, 1 roots, 1652 extra nodes, 0 pruned nodes, max_depth=12\n",
      "[18:44:39] /workspace/src/tree/updater_prune.cc:74: tree pruning end, 1 roots, 1578 extra nodes, 0 pruned nodes, max_depth=12\n",
      "[18:44:40] /workspace/src/tree/updater_prune.cc:74: tree pruning end, 1 roots, 1670 extra nodes, 0 pruned nodes, max_depth=12\n",
      "[18:44:41] /workspace/src/tree/updater_prune.cc:74: tree pruning end, 1 roots, 750 extra nodes, 0 pruned nodes, max_depth=12\n",
      "[18:44:42] /workspace/src/tree/updater_prune.cc:74: tree pruning end, 1 roots, 1704 extra nodes, 0 pruned nodes, max_depth=12\n",
      "[18:44:43] /workspace/src/tree/updater_prune.cc:74: tree pruning end, 1 roots, 712 extra nodes, 0 pruned nodes, max_depth=12\n",
      "[18:44:44] /workspace/src/tree/updater_prune.cc:74: tree pruning end, 1 roots, 1860 extra nodes, 0 pruned nodes, max_depth=12\n",
      "[18:44:46] /workspace/src/tree/updater_prune.cc:74: tree pruning end, 1 roots, 1540 extra nodes, 0 pruned nodes, max_depth=12\n",
      "[18:44:47] /workspace/src/tree/updater_prune.cc:74: tree pruning end, 1 roots, 848 extra nodes, 0 pruned nodes, max_depth=12\n",
      "[18:44:48] /workspace/src/tree/updater_prune.cc:74: tree pruning end, 1 roots, 932 extra nodes, 0 pruned nodes, max_depth=12\n",
      "[18:44:49] /workspace/src/tree/updater_prune.cc:74: tree pruning end, 1 roots, 1170 extra nodes, 0 pruned nodes, max_depth=12\n",
      "[18:44:51] /workspace/src/tree/updater_prune.cc:74: tree pruning end, 1 roots, 1758 extra nodes, 0 pruned nodes, max_depth=12\n",
      "[18:44:52] /workspace/src/tree/updater_prune.cc:74: tree pruning end, 1 roots, 1706 extra nodes, 0 pruned nodes, max_depth=12\n",
      "[18:44:53] /workspace/src/tree/updater_prune.cc:74: tree pruning end, 1 roots, 1368 extra nodes, 0 pruned nodes, max_depth=12\n",
      "[18:44:54] /workspace/src/tree/updater_prune.cc:74: tree pruning end, 1 roots, 1252 extra nodes, 0 pruned nodes, max_depth=12\n",
      "[18:44:55] /workspace/src/tree/updater_prune.cc:74: tree pruning end, 1 roots, 1116 extra nodes, 0 pruned nodes, max_depth=12\n",
      "[18:44:56] /workspace/src/tree/updater_prune.cc:74: tree pruning end, 1 roots, 924 extra nodes, 0 pruned nodes, max_depth=12\n",
      "[18:44:58] /workspace/src/tree/updater_prune.cc:74: tree pruning end, 1 roots, 1502 extra nodes, 0 pruned nodes, max_depth=12\n",
      "[18:44:59] /workspace/src/tree/updater_prune.cc:74: tree pruning end, 1 roots, 1588 extra nodes, 0 pruned nodes, max_depth=12\n",
      "[18:45:00] /workspace/src/tree/updater_prune.cc:74: tree pruning end, 1 roots, 1598 extra nodes, 0 pruned nodes, max_depth=12\n",
      "[18:45:01] /workspace/src/tree/updater_prune.cc:74: tree pruning end, 1 roots, 1264 extra nodes, 0 pruned nodes, max_depth=12\n",
      "[18:45:02] /workspace/src/tree/updater_prune.cc:74: tree pruning end, 1 roots, 2078 extra nodes, 0 pruned nodes, max_depth=12\n",
      "[18:45:03] /workspace/src/tree/updater_prune.cc:74: tree pruning end, 1 roots, 1578 extra nodes, 0 pruned nodes, max_depth=12\n",
      "[18:45:05] /workspace/src/tree/updater_prune.cc:74: tree pruning end, 1 roots, 1064 extra nodes, 0 pruned nodes, max_depth=12\n",
      "[18:45:06] /workspace/src/tree/updater_prune.cc:74: tree pruning end, 1 roots, 1708 extra nodes, 0 pruned nodes, max_depth=12\n",
      "[18:45:07] /workspace/src/tree/updater_prune.cc:74: tree pruning end, 1 roots, 1614 extra nodes, 0 pruned nodes, max_depth=12\n",
      "[18:45:08] /workspace/src/tree/updater_prune.cc:74: tree pruning end, 1 roots, 1320 extra nodes, 0 pruned nodes, max_depth=12\n",
      "[18:45:09] /workspace/src/tree/updater_prune.cc:74: tree pruning end, 1 roots, 1878 extra nodes, 0 pruned nodes, max_depth=12\n",
      "[18:45:11] /workspace/src/tree/updater_prune.cc:74: tree pruning end, 1 roots, 1366 extra nodes, 0 pruned nodes, max_depth=12\n",
      "[18:45:12] /workspace/src/tree/updater_prune.cc:74: tree pruning end, 1 roots, 1712 extra nodes, 0 pruned nodes, max_depth=12\n",
      "[18:45:13] /workspace/src/tree/updater_prune.cc:74: tree pruning end, 1 roots, 1508 extra nodes, 0 pruned nodes, max_depth=12\n",
      "[18:45:14] /workspace/src/tree/updater_prune.cc:74: tree pruning end, 1 roots, 754 extra nodes, 0 pruned nodes, max_depth=12\n",
      "[18:45:15] /workspace/src/tree/updater_prune.cc:74: tree pruning end, 1 roots, 1592 extra nodes, 0 pruned nodes, max_depth=12\n",
      "[18:45:16] /workspace/src/tree/updater_prune.cc:74: tree pruning end, 1 roots, 1518 extra nodes, 0 pruned nodes, max_depth=12\n",
      "[18:45:17] /workspace/src/tree/updater_prune.cc:74: tree pruning end, 1 roots, 1160 extra nodes, 0 pruned nodes, max_depth=12\n",
      "[18:45:18] /workspace/src/tree/updater_prune.cc:74: tree pruning end, 1 roots, 1462 extra nodes, 0 pruned nodes, max_depth=12\n",
      "[18:45:20] /workspace/src/tree/updater_prune.cc:74: tree pruning end, 1 roots, 1794 extra nodes, 0 pruned nodes, max_depth=12\n",
      "[18:45:21] /workspace/src/tree/updater_prune.cc:74: tree pruning end, 1 roots, 1820 extra nodes, 0 pruned nodes, max_depth=12\n",
      "[18:45:22] /workspace/src/tree/updater_prune.cc:74: tree pruning end, 1 roots, 1220 extra nodes, 0 pruned nodes, max_depth=12\n",
      "[18:45:23] /workspace/src/tree/updater_prune.cc:74: tree pruning end, 1 roots, 2314 extra nodes, 0 pruned nodes, max_depth=12\n",
      "[18:45:24] /workspace/src/tree/updater_prune.cc:74: tree pruning end, 1 roots, 1350 extra nodes, 0 pruned nodes, max_depth=12\n",
      "[18:45:26] /workspace/src/tree/updater_prune.cc:74: tree pruning end, 1 roots, 2314 extra nodes, 0 pruned nodes, max_depth=12\n",
      "[18:45:27] /workspace/src/tree/updater_prune.cc:74: tree pruning end, 1 roots, 890 extra nodes, 0 pruned nodes, max_depth=12\n",
      "[18:45:28] /workspace/src/tree/updater_prune.cc:74: tree pruning end, 1 roots, 1282 extra nodes, 0 pruned nodes, max_depth=12\n",
      "[18:45:30] /workspace/src/tree/updater_prune.cc:74: tree pruning end, 1 roots, 1902 extra nodes, 0 pruned nodes, max_depth=12\n",
      "[18:45:31] /workspace/src/tree/updater_prune.cc:74: tree pruning end, 1 roots, 914 extra nodes, 0 pruned nodes, max_depth=12\n",
      "[18:45:32] /workspace/src/tree/updater_prune.cc:74: tree pruning end, 1 roots, 1786 extra nodes, 0 pruned nodes, max_depth=12\n",
      "[18:45:33] /workspace/src/tree/updater_prune.cc:74: tree pruning end, 1 roots, 866 extra nodes, 0 pruned nodes, max_depth=12\n",
      "[18:45:34] /workspace/src/tree/updater_prune.cc:74: tree pruning end, 1 roots, 1054 extra nodes, 0 pruned nodes, max_depth=12\n",
      "[18:45:35] /workspace/src/tree/updater_prune.cc:74: tree pruning end, 1 roots, 1802 extra nodes, 0 pruned nodes, max_depth=12\n",
      "[18:45:36] /workspace/src/tree/updater_prune.cc:74: tree pruning end, 1 roots, 880 extra nodes, 0 pruned nodes, max_depth=12\n",
      "[18:45:38] /workspace/src/tree/updater_prune.cc:74: tree pruning end, 1 roots, 1786 extra nodes, 0 pruned nodes, max_depth=12\n"
     ]
    },
    {
     "name": "stdout",
     "output_type": "stream",
     "text": [
      "[18:45:39] /workspace/src/tree/updater_prune.cc:74: tree pruning end, 1 roots, 1450 extra nodes, 0 pruned nodes, max_depth=12\n",
      "[18:45:40] /workspace/src/tree/updater_prune.cc:74: tree pruning end, 1 roots, 1568 extra nodes, 0 pruned nodes, max_depth=12\n",
      "[18:45:42] /workspace/src/tree/updater_prune.cc:74: tree pruning end, 1 roots, 1270 extra nodes, 0 pruned nodes, max_depth=12\n",
      "[18:45:43] /workspace/src/tree/updater_prune.cc:74: tree pruning end, 1 roots, 1130 extra nodes, 0 pruned nodes, max_depth=12\n",
      "[18:45:44] /workspace/src/tree/updater_prune.cc:74: tree pruning end, 1 roots, 1458 extra nodes, 0 pruned nodes, max_depth=12\n",
      "[18:45:45] /workspace/src/tree/updater_prune.cc:74: tree pruning end, 1 roots, 1258 extra nodes, 0 pruned nodes, max_depth=12\n"
     ]
    }
   ],
   "source": [
    "nrounds=1000  # need to change to 2000\n",
    "kfold = 5  # need to change to 5\n",
    "skf = StratifiedKFold(n_splits=kfold, random_state=0)\n",
    "for i, (train_index, test_index) in enumerate(skf.split(train, totalloss)):\n",
    "    print(' xgb kfold: {}  of  {} : '.format(i+1, kfold))\n",
    "    X_train, X_valid = train.iloc[train_index], train.iloc[test_index]\n",
    "    y_train, y_valid = totalloss.iloc[train_index], totalloss.iloc[test_index]\n",
    "    d_train = xgb.DMatrix(X_train, y_train) \n",
    "    d_valid = xgb.DMatrix(X_valid, y_valid) \n",
    "    watchlist = [(d_train, 'train'), (d_valid, 'valid')]\n",
    "    xgb_model = xgb.train(xgb_params, d_train, nrounds, watchlist, early_stopping_rounds=100, \n",
    "                          feval=gini_xgb, maximize=True, verbose_eval=100)\n",
    "    sub['target'] += xgb_model.predict(xgb.DMatrix(test), \n",
    "                        ntree_limit=xgb_model.best_ntree_limit+50) / (kfold)\n",
    "sub.to_csv('xgboost_5fold.csv', index=False, float_format='%.5f') \n",
    "gc.collect()\n",
    "sub.head(2)"
   ]
  },
  {
   "cell_type": "code",
   "execution_count": 50,
   "metadata": {
    "hidden": true
   },
   "outputs": [],
   "source": [
    "xgb_params = {'eta': 0.05, \n",
    "              'max_depth': 12, \n",
    "              'subsample': 0.8, \n",
    "              'colsample_bytree': 0.75,\n",
    "              #'min_child_weight' : 1.5,\n",
    "              'scale_pos_weight': 8.7,\n",
    "              'objective': 'binary:logistic', \n",
    "              'eval_metric': 'logloss', \n",
    "              'seed': 23,\n",
    "              'lambda': 1.5,\n",
    "              'alpha': .6\n",
    "             }"
   ]
  },
  {
   "cell_type": "code",
   "execution_count": 40,
   "metadata": {
    "hidden": true
   },
   "outputs": [],
   "source": [
    "sub=pd.DataFrame(test_claims_numbers,columns=['claim_claimnumber'])"
   ]
  },
  {
   "cell_type": "code",
   "execution_count": 42,
   "metadata": {
    "hidden": true
   },
   "outputs": [],
   "source": [
    "sub['exp_claimorder']=test_exp_claimorder"
   ]
  },
  {
   "cell_type": "code",
   "execution_count": 45,
   "metadata": {
    "collapsed": true,
    "hidden": true
   },
   "outputs": [
    {
     "data": {
      "text/html": [
       "<div>\n",
       "<style scoped>\n",
       "    .dataframe tbody tr th:only-of-type {\n",
       "        vertical-align: middle;\n",
       "    }\n",
       "\n",
       "    .dataframe tbody tr th {\n",
       "        vertical-align: top;\n",
       "    }\n",
       "\n",
       "    .dataframe thead th {\n",
       "        text-align: right;\n",
       "    }\n",
       "</style>\n",
       "<table border=\"1\" class=\"dataframe\">\n",
       "  <thead>\n",
       "    <tr style=\"text-align: right;\">\n",
       "      <th></th>\n",
       "      <th>claim_claimnumber</th>\n",
       "      <th>exp_claimorder</th>\n",
       "      <th>actual_loss</th>\n",
       "    </tr>\n",
       "  </thead>\n",
       "  <tbody>\n",
       "    <tr>\n",
       "      <th>0</th>\n",
       "      <td>1002-65-5100</td>\n",
       "      <td>1</td>\n",
       "      <td>0</td>\n",
       "    </tr>\n",
       "    <tr>\n",
       "      <th>1</th>\n",
       "      <td>1002-65-5104</td>\n",
       "      <td>1</td>\n",
       "      <td>0</td>\n",
       "    </tr>\n",
       "    <tr>\n",
       "      <th>2</th>\n",
       "      <td>1002-65-5118</td>\n",
       "      <td>1</td>\n",
       "      <td>0</td>\n",
       "    </tr>\n",
       "    <tr>\n",
       "      <th>3</th>\n",
       "      <td>1002-65-5120</td>\n",
       "      <td>1</td>\n",
       "      <td>0</td>\n",
       "    </tr>\n",
       "    <tr>\n",
       "      <th>4</th>\n",
       "      <td>1002-65-5121</td>\n",
       "      <td>1</td>\n",
       "      <td>1</td>\n",
       "    </tr>\n",
       "  </tbody>\n",
       "</table>\n",
       "</div>"
      ],
      "text/plain": [
       "  claim_claimnumber  exp_claimorder  actual_loss\n",
       "0      1002-65-5100               1            0\n",
       "1      1002-65-5104               1            0\n",
       "2      1002-65-5118               1            0\n",
       "3      1002-65-5120               1            0\n",
       "4      1002-65-5121               1            1"
      ]
     },
     "execution_count": 45,
     "metadata": {},
     "output_type": "execute_result"
    }
   ],
   "source": [
    "sub.head()"
   ]
  },
  {
   "cell_type": "code",
   "execution_count": 44,
   "metadata": {
    "hidden": true
   },
   "outputs": [],
   "source": [
    "sub['actual_loss']=actual_loss"
   ]
  },
  {
   "cell_type": "code",
   "execution_count": 54,
   "metadata": {
    "hidden": true
   },
   "outputs": [],
   "source": [
    "sub['target']=0"
   ]
  },
  {
   "cell_type": "code",
   "execution_count": 56,
   "metadata": {
    "collapsed": true,
    "hidden": true
   },
   "outputs": [
    {
     "data": {
      "text/plain": [
       "0     1131424\n",
       "1      130014\n",
       "19          1\n",
       "Name: inc_totalloss, dtype: int64"
      ]
     },
     "execution_count": 56,
     "metadata": {},
     "output_type": "execute_result"
    }
   ],
   "source": [
    "totalloss.value_counts()"
   ]
  },
  {
   "cell_type": "code",
   "execution_count": 62,
   "metadata": {
    "collapsed": true,
    "hidden": true
   },
   "outputs": [
    {
     "ename": "IndexingError",
     "evalue": "(0          False\n1          False\n2          False\n3          False\n4          False\n5          False\n6          False\n7          False\n8          False\n9          False\n10         False\n11         False\n12         False\n13         False\n14         False\n15         False\n16         False\n17         False\n18         False\n19         False\n20         False\n21         False\n22         False\n23         False\n24         False\n25         False\n26         False\n27         False\n28         False\n29         False\n           ...  \n1261409    False\n1261410    False\n1261411    False\n1261412    False\n1261413    False\n1261414    False\n1261415    False\n1261416    False\n1261417    False\n1261418    False\n1261419    False\n1261420    False\n1261421    False\n1261422    False\n1261423    False\n1261424    False\n1261425    False\n1261426    False\n1261427    False\n1261428    False\n1261429    False\n1261430    False\n1261431    False\n1261432    False\n1261433    False\n1261434    False\n1261435    False\n1261436    False\n1261437    False\n1261438    False\nName: inc_totalloss, Length: 1261439, dtype: bool, 'totalloss')",
     "output_type": "error",
     "traceback": [
      "\u001b[0;31m---------------------------------------------------------------------------\u001b[0m",
      "\u001b[0;31mTypeError\u001b[0m                                 Traceback (most recent call last)",
      "\u001b[0;32m/usr/local/lib/python3.5/dist-packages/pandas/core/indexing.py\u001b[0m in \u001b[0;36m_get_setitem_indexer\u001b[0;34m(self, key)\u001b[0m\n\u001b[1;32m    173\u001b[0m         \u001b[0;32mtry\u001b[0m\u001b[0;34m:\u001b[0m\u001b[0;34m\u001b[0m\u001b[0m\n\u001b[0;32m--> 174\u001b[0;31m             \u001b[0;32mreturn\u001b[0m \u001b[0mself\u001b[0m\u001b[0;34m.\u001b[0m\u001b[0m_convert_to_indexer\u001b[0m\u001b[0;34m(\u001b[0m\u001b[0mkey\u001b[0m\u001b[0;34m,\u001b[0m \u001b[0mis_setter\u001b[0m\u001b[0;34m=\u001b[0m\u001b[0;32mTrue\u001b[0m\u001b[0;34m)\u001b[0m\u001b[0;34m\u001b[0m\u001b[0m\n\u001b[0m\u001b[1;32m    175\u001b[0m         \u001b[0;32mexcept\u001b[0m \u001b[0mTypeError\u001b[0m \u001b[0;32mas\u001b[0m \u001b[0me\u001b[0m\u001b[0;34m:\u001b[0m\u001b[0;34m\u001b[0m\u001b[0m\n",
      "\u001b[0;32m/usr/local/lib/python3.5/dist-packages/pandas/core/indexing.py\u001b[0m in \u001b[0;36m_convert_to_indexer\u001b[0;34m(self, obj, axis, is_setter)\u001b[0m\n\u001b[1;32m   1313\u001b[0m                 \u001b[0;32mif\u001b[0m \u001b[0mlabels\u001b[0m\u001b[0;34m.\u001b[0m\u001b[0mis_unique\u001b[0m\u001b[0;34m:\u001b[0m\u001b[0;34m\u001b[0m\u001b[0m\n\u001b[0;32m-> 1314\u001b[0;31m                     \u001b[0mindexer\u001b[0m \u001b[0;34m=\u001b[0m \u001b[0mcheck\u001b[0m \u001b[0;34m=\u001b[0m \u001b[0mlabels\u001b[0m\u001b[0;34m.\u001b[0m\u001b[0mget_indexer\u001b[0m\u001b[0;34m(\u001b[0m\u001b[0mobjarr\u001b[0m\u001b[0;34m)\u001b[0m\u001b[0;34m\u001b[0m\u001b[0m\n\u001b[0m\u001b[1;32m   1315\u001b[0m \u001b[0;34m\u001b[0m\u001b[0m\n",
      "\u001b[0;32m/usr/local/lib/python3.5/dist-packages/pandas/core/indexes/base.py\u001b[0m in \u001b[0;36mget_indexer\u001b[0;34m(self, target, method, limit, tolerance)\u001b[0m\n\u001b[1;32m   3240\u001b[0m             return this.get_indexer(target, method=method, limit=limit,\n\u001b[0;32m-> 3241\u001b[0;31m                                     tolerance=tolerance)\n\u001b[0m\u001b[1;32m   3242\u001b[0m \u001b[0;34m\u001b[0m\u001b[0m\n",
      "\u001b[0;32m/usr/local/lib/python3.5/dist-packages/pandas/core/indexes/base.py\u001b[0m in \u001b[0;36mget_indexer\u001b[0;34m(self, target, method, limit, tolerance)\u001b[0m\n\u001b[1;32m   3258\u001b[0m \u001b[0;34m\u001b[0m\u001b[0m\n\u001b[0;32m-> 3259\u001b[0;31m             \u001b[0mindexer\u001b[0m \u001b[0;34m=\u001b[0m \u001b[0mself\u001b[0m\u001b[0;34m.\u001b[0m\u001b[0m_engine\u001b[0m\u001b[0;34m.\u001b[0m\u001b[0mget_indexer\u001b[0m\u001b[0;34m(\u001b[0m\u001b[0mtarget\u001b[0m\u001b[0;34m.\u001b[0m\u001b[0m_ndarray_values\u001b[0m\u001b[0;34m)\u001b[0m\u001b[0;34m\u001b[0m\u001b[0m\n\u001b[0m\u001b[1;32m   3260\u001b[0m \u001b[0;34m\u001b[0m\u001b[0m\n",
      "\u001b[0;32mpandas/_libs/index.pyx\u001b[0m in \u001b[0;36mpandas._libs.index.IndexEngine.get_indexer\u001b[0;34m()\u001b[0m\n",
      "\u001b[0;32mpandas/_libs/hashtable_class_helper.pxi\u001b[0m in \u001b[0;36mpandas._libs.hashtable.PyObjectHashTable.lookup\u001b[0;34m()\u001b[0m\n",
      "\u001b[0;32m/usr/local/lib/python3.5/dist-packages/pandas/core/generic.py\u001b[0m in \u001b[0;36m__hash__\u001b[0;34m(self)\u001b[0m\n\u001b[1;32m   1491\u001b[0m         raise TypeError('{0!r} objects are mutable, thus they cannot be'\n\u001b[0;32m-> 1492\u001b[0;31m                         ' hashed'.format(self.__class__.__name__))\n\u001b[0m\u001b[1;32m   1493\u001b[0m \u001b[0;34m\u001b[0m\u001b[0m\n",
      "\u001b[0;31mTypeError\u001b[0m: 'Series' objects are mutable, thus they cannot be hashed",
      "\nDuring handling of the above exception, another exception occurred:\n",
      "\u001b[0;31mIndexingError\u001b[0m                             Traceback (most recent call last)",
      "\u001b[0;32m<ipython-input-62-e95703562234>\u001b[0m in \u001b[0;36m<module>\u001b[0;34m()\u001b[0m\n\u001b[0;32m----> 1\u001b[0;31m \u001b[0mtotalloss\u001b[0m\u001b[0;34m.\u001b[0m\u001b[0mloc\u001b[0m\u001b[0;34m[\u001b[0m\u001b[0mtotalloss\u001b[0m\u001b[0;34m==\u001b[0m\u001b[0;36m19\u001b[0m\u001b[0;34m,\u001b[0m\u001b[0;34m'totalloss'\u001b[0m\u001b[0;34m]\u001b[0m\u001b[0;34m=\u001b[0m\u001b[0;36m1\u001b[0m\u001b[0;34m\u001b[0m\u001b[0m\n\u001b[0m",
      "\u001b[0;32m/usr/local/lib/python3.5/dist-packages/pandas/core/indexing.py\u001b[0m in \u001b[0;36m__setitem__\u001b[0;34m(self, key, value)\u001b[0m\n\u001b[1;32m    186\u001b[0m         \u001b[0;32melse\u001b[0m\u001b[0;34m:\u001b[0m\u001b[0;34m\u001b[0m\u001b[0m\n\u001b[1;32m    187\u001b[0m             \u001b[0mkey\u001b[0m \u001b[0;34m=\u001b[0m \u001b[0mcom\u001b[0m\u001b[0;34m.\u001b[0m\u001b[0m_apply_if_callable\u001b[0m\u001b[0;34m(\u001b[0m\u001b[0mkey\u001b[0m\u001b[0;34m,\u001b[0m \u001b[0mself\u001b[0m\u001b[0;34m.\u001b[0m\u001b[0mobj\u001b[0m\u001b[0;34m)\u001b[0m\u001b[0;34m\u001b[0m\u001b[0m\n\u001b[0;32m--> 188\u001b[0;31m         \u001b[0mindexer\u001b[0m \u001b[0;34m=\u001b[0m \u001b[0mself\u001b[0m\u001b[0;34m.\u001b[0m\u001b[0m_get_setitem_indexer\u001b[0m\u001b[0;34m(\u001b[0m\u001b[0mkey\u001b[0m\u001b[0;34m)\u001b[0m\u001b[0;34m\u001b[0m\u001b[0m\n\u001b[0m\u001b[1;32m    189\u001b[0m         \u001b[0mself\u001b[0m\u001b[0;34m.\u001b[0m\u001b[0m_setitem_with_indexer\u001b[0m\u001b[0;34m(\u001b[0m\u001b[0mindexer\u001b[0m\u001b[0;34m,\u001b[0m \u001b[0mvalue\u001b[0m\u001b[0;34m)\u001b[0m\u001b[0;34m\u001b[0m\u001b[0m\n\u001b[1;32m    190\u001b[0m \u001b[0;34m\u001b[0m\u001b[0m\n",
      "\u001b[0;32m/usr/local/lib/python3.5/dist-packages/pandas/core/indexing.py\u001b[0m in \u001b[0;36m_get_setitem_indexer\u001b[0;34m(self, key)\u001b[0m\n\u001b[1;32m    178\u001b[0m             \u001b[0;32mif\u001b[0m \u001b[0;34m'cannot do'\u001b[0m \u001b[0;32min\u001b[0m \u001b[0mstr\u001b[0m\u001b[0;34m(\u001b[0m\u001b[0me\u001b[0m\u001b[0;34m)\u001b[0m\u001b[0;34m:\u001b[0m\u001b[0;34m\u001b[0m\u001b[0m\n\u001b[1;32m    179\u001b[0m                 \u001b[0;32mraise\u001b[0m\u001b[0;34m\u001b[0m\u001b[0m\n\u001b[0;32m--> 180\u001b[0;31m             \u001b[0;32mraise\u001b[0m \u001b[0mIndexingError\u001b[0m\u001b[0;34m(\u001b[0m\u001b[0mkey\u001b[0m\u001b[0;34m)\u001b[0m\u001b[0;34m\u001b[0m\u001b[0m\n\u001b[0m\u001b[1;32m    181\u001b[0m \u001b[0;34m\u001b[0m\u001b[0m\n\u001b[1;32m    182\u001b[0m     \u001b[0;32mdef\u001b[0m \u001b[0m__setitem__\u001b[0m\u001b[0;34m(\u001b[0m\u001b[0mself\u001b[0m\u001b[0;34m,\u001b[0m \u001b[0mkey\u001b[0m\u001b[0;34m,\u001b[0m \u001b[0mvalue\u001b[0m\u001b[0;34m)\u001b[0m\u001b[0;34m:\u001b[0m\u001b[0;34m\u001b[0m\u001b[0m\n",
      "\u001b[0;31mIndexingError\u001b[0m: (0          False\n1          False\n2          False\n3          False\n4          False\n5          False\n6          False\n7          False\n8          False\n9          False\n10         False\n11         False\n12         False\n13         False\n14         False\n15         False\n16         False\n17         False\n18         False\n19         False\n20         False\n21         False\n22         False\n23         False\n24         False\n25         False\n26         False\n27         False\n28         False\n29         False\n           ...  \n1261409    False\n1261410    False\n1261411    False\n1261412    False\n1261413    False\n1261414    False\n1261415    False\n1261416    False\n1261417    False\n1261418    False\n1261419    False\n1261420    False\n1261421    False\n1261422    False\n1261423    False\n1261424    False\n1261425    False\n1261426    False\n1261427    False\n1261428    False\n1261429    False\n1261430    False\n1261431    False\n1261432    False\n1261433    False\n1261434    False\n1261435    False\n1261436    False\n1261437    False\n1261438    False\nName: inc_totalloss, Length: 1261439, dtype: bool, 'totalloss')"
     ]
    }
   ],
   "source": [
    "totalloss.loc[totalloss==19,'totalloss']=1"
   ]
  },
  {
   "cell_type": "code",
   "execution_count": 63,
   "metadata": {
    "hidden": true
   },
   "outputs": [],
   "source": [
    "totalloss.replace(19,1,inplace=True)"
   ]
  },
  {
   "cell_type": "code",
   "execution_count": 64,
   "metadata": {
    "hidden": true
   },
   "outputs": [
    {
     "data": {
      "text/plain": [
       "0    1131424\n",
       "1     130015\n",
       "Name: inc_totalloss, dtype: int64"
      ]
     },
     "execution_count": 64,
     "metadata": {},
     "output_type": "execute_result"
    }
   ],
   "source": [
    "totalloss.value_counts()"
   ]
  },
  {
   "cell_type": "code",
   "execution_count": null,
   "metadata": {
    "hidden": true
   },
   "outputs": [],
   "source": []
  }
 ],
 "metadata": {
  "kernelspec": {
   "display_name": "Python 3",
   "language": "python",
   "name": "python3"
  },
  "language_info": {
   "codemirror_mode": {
    "name": "ipython",
    "version": 3
   },
   "file_extension": ".py",
   "mimetype": "text/x-python",
   "name": "python",
   "nbconvert_exporter": "python",
   "pygments_lexer": "ipython3",
   "version": "3.6.5"
  },
  "varInspector": {
   "cols": {
    "lenName": 16,
    "lenType": 16,
    "lenVar": 40
   },
   "kernels_config": {
    "python": {
     "delete_cmd_postfix": "",
     "delete_cmd_prefix": "del ",
     "library": "var_list.py",
     "varRefreshCmd": "print(var_dic_list())"
    },
    "r": {
     "delete_cmd_postfix": ") ",
     "delete_cmd_prefix": "rm(",
     "library": "var_list.r",
     "varRefreshCmd": "cat(var_dic_list()) "
    }
   },
   "types_to_exclude": [
    "module",
    "function",
    "builtin_function_or_method",
    "instance",
    "_Feature"
   ],
   "window_display": false
  }
 },
 "nbformat": 4,
 "nbformat_minor": 2
}
